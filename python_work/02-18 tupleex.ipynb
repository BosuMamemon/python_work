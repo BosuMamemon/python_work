{
 "cells": [
  {
   "cell_type": "code",
   "execution_count": 6,
   "metadata": {},
   "outputs": [
    {
     "name": "stdout",
     "output_type": "stream",
     "text": [
      "()\n",
      "(1,)\n",
      "(1, 2, 3)\n",
      "(1, 2, 3, 4)\n",
      "(1, 2, 3, ('ab', 'cd'))\n",
      "1 ('ab', 'cd')\n",
      "(1, 2, 3)\n"
     ]
    }
   ],
   "source": [
    "t1 = ()\n",
    "t2 = (1, )\n",
    "t3 = (1, 2, 3)\n",
    "t4 = 1, 2, 3, 4\n",
    "t5 = (1, 2, 3, (\"ab\", \"cd\"))\n",
    "print(t1)\n",
    "print(t2)\n",
    "print(t3)\n",
    "print(t4)\n",
    "print(t5)\n",
    "\n",
    "print(t5[0], t5[-1])\n",
    "\n",
    "# t5[5] = 0 <- 튜플은 요소 변경이 불가능\n",
    "# t1.append(10) <- 튜플은 요소 변경이 불가능하다고...\n",
    "# t1.remove(1)\n",
    "# del t1[0]\n",
    "# 대신 인덱싱이나 슬라이싱은 됨 ㅋㅋ\n",
    "print(t5[0:3])"
   ]
  },
  {
   "cell_type": "code",
   "execution_count": null,
   "metadata": {},
   "outputs": [
    {
     "name": "stdout",
     "output_type": "stream",
     "text": [
      "(2, 3, 1, 2)\n",
      "(('ab', 'cd'), 3, 2, 1, 3, 2, 1)\n",
      "(1, 2, 3, ('ab', 'cd'), 1, 2, 3, ('ab', 'cd'))\n",
      "2\n",
      "1\n"
     ]
    }
   ],
   "source": [
    "# 튜플 더하기\n",
    "t = t3 + t5\n",
    "print(t[1:5])\n",
    "print(t[::-1])\n",
    "print(t5 * 2)\n",
    "print(t.count(1))\n",
    "print(t[0]) # 참고: t.index(n) 함수는 적용이 안됨"
   ]
  }
 ],
 "metadata": {
  "kernelspec": {
   "display_name": "base",
   "language": "python",
   "name": "python3"
  },
  "language_info": {
   "codemirror_mode": {
    "name": "ipython",
    "version": 3
   },
   "file_extension": ".py",
   "mimetype": "text/x-python",
   "name": "python",
   "nbconvert_exporter": "python",
   "pygments_lexer": "ipython3",
   "version": "3.12.7"
  }
 },
 "nbformat": 4,
 "nbformat_minor": 2
}
