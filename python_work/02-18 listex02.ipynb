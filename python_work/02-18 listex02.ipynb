{
 "cells": [
  {
   "cell_type": "code",
   "execution_count": null,
   "metadata": {},
   "outputs": [
    {
     "name": "stdout",
     "output_type": "stream",
     "text": [
      "1 5\n",
      "[2, 3]\n",
      "[1, 3, 5]\n",
      "[5, 4, 3, 2, 1]\n"
     ]
    }
   ],
   "source": [
    "# 리스트 슬라이싱\n",
    "a = [1, 2, 3, 4, 5]\n",
    "b = [10, 20, 30, 40, 50]\n",
    "\n",
    "print(a[0], a[-1]) # 인덱스 -1은 맨 끝에서 첫번째를 말하는 거임... 이라고 한 5000번 말했음\n",
    "print(a[1:3:1]) # 인덱스 1부터 3 앞까지 step = 1로 출력\n",
    "print(a[::2]) # 인덱스 처음부터 끝까지 step = 2로 출력\n",
    "print(a[::-1]) # 인덱스 처음부터 끝까지 step = -1 = 역순으로 출력"
   ]
  },
  {
   "cell_type": "code",
   "execution_count": 18,
   "metadata": {},
   "outputs": [
    {
     "name": "stdout",
     "output_type": "stream",
     "text": [
      "[1, 2, 3, 4, 5, 6, [7, 8], 9]\n",
      "[9, [7, 8], 6, 5, 4, 3, 2, 1]\n"
     ]
    },
    {
     "data": {
      "text/plain": [
       "5"
      ]
     },
     "execution_count": 18,
     "metadata": {},
     "output_type": "execute_result"
    }
   ],
   "source": [
    "a = [1, 2, 3, 4, 5]\n",
    "a.append(6) # 마지막 인덱스에 값 6을 추가\n",
    "a.append([7, 8]) # 리스트 그 자체도 값이 될 수 있음\n",
    "a.extend([9, 10]) #.extend는 리스트를 여러개의 요소로 인식해서 집어넣음 (append는 한번에 1개밖에 못 넣음)\n",
    "a.insert(1, 100) # insert는 인덱스를 인식함. 인덱스 1에 값 100을 집어넣겠다는 말임\n",
    "del a[1] # 인덱스 위치로 값을 지우는 방법\n",
    "a.remove(10) # 값 자체를 지정해서 값을 지우는 방법\n",
    "print(a)\n",
    "a.reverse() # 배열 요소 자체를 역순으로 저장해버리는 함수\n",
    "print(a)\n",
    "a.index(3) # 인덱스 위치로 값 찾기"
   ]
  },
  {
   "cell_type": "code",
   "execution_count": null,
   "metadata": {},
   "outputs": [
    {
     "name": "stdout",
     "output_type": "stream",
     "text": [
      "[1, 2, 3, 4, 5]\n",
      "['Abra cadabra', 'I wanna go home', 'digimon', 'gigajunmok', 'tori_yes']\n"
     ]
    }
   ],
   "source": [
    "a = [4, 2, 5, 1, 3]\n",
    "a.sort() # 배열의 요소를 오름차순으로 걍 정리해버리는 아주 멋진 친구\n",
    "print(a)\n",
    "s = [\"Abra cadabra\", \"digimon\", \"gigajunmok\", \"I wanna go home\", \"tori_yes\"]\n",
    "s.sort() # 문자열이라고 sort의 마수에서 벗어날 순 없음(대문자 first 소문자 second인거 같음 아스키코드도 그러하지)\n",
    "print(s)"
   ]
  },
  {
   "cell_type": "code",
   "execution_count": null,
   "metadata": {},
   "outputs": [
    {
     "name": "stdout",
     "output_type": "stream",
     "text": [
      "[10, 20, 30, 40, 50]\n",
      "50\n",
      "[10, 20, 30, 40]\n",
      "40\n",
      "[10, 20, 30]\n",
      "b.count(10) = 3\n",
      "[10, 20, 30, 10, 10]\n"
     ]
    }
   ],
   "source": [
    "b = [10, 20, 30, 40, 50]\n",
    "print(b)\n",
    "print(b.pop()) # 인덱스 맨 마지막 놈을 지정하고 꺼내버린다는 의미\n",
    "print(b)\n",
    "print(b.pop())\n",
    "print(b)\n",
    "\n",
    "b.append(10)\n",
    "b.append(10)\n",
    "print(\"b.count(10) = \" + str(b.count(10))) # 10이라는 값이 배열 안에 몇개 있는지 셈\n",
    "print(b)"
   ]
  },
  {
   "cell_type": "code",
   "execution_count": null,
   "metadata": {},
   "outputs": [
    {
     "name": "stdout",
     "output_type": "stream",
     "text": [
      "3\n"
     ]
    }
   ],
   "source": [
    "str = \"\"\"\n",
    "A passenger in the Toronto plane crash said “it’s amazing that we’re still here” after the plane turned upside down on the runway Monday.\n",
    "John Nelson told CNN he wasn’t aware anything was wrong with the plane, calling it a typical flight between Minneapolis/St.\n",
    "Paul and Toronto, but said he did notice gusty winds and a lot of snow on the runway as they approached.\n",
    "“When we hit, it was just a super hard — it hit the ground, and the plane went sideways,” Nelson said, adding that he saw “a big fireball” out of the left side of the plane.\n",
    "Nelson was in row 10 of the aircraft, seated in front of the wing.\n",
    "Once the plane stopped, Nelson said people started yelling to get out.\n",
    "“It was mass chaos,” he said.\n",
    "Nelson and his seatmate were hanging upside down when the plane came to a stop.\n",
    "They unbuckled themselves and landed on the ceiling of the aircraft before making a beeline for the door, the air smelling like jet fuel.\n",
    "“We tried to get out of there as quickly as possible,” Nelson said. “Even now I smell like jet fuel.”\n",
    "\"\"\"\n",
    "arr = str.split(\" \")\n",
    "print(arr.count(\"said\"))"
   ]
  },
  {
   "cell_type": "code",
   "execution_count": 58,
   "metadata": {},
   "outputs": [
    {
     "name": "stdout",
     "output_type": "stream",
     "text": [
      "['', 'A', 'passenger', 'in', 'the', 'Toronto', 'plane', 'crash', 'said', '“it’s', 'amazing', 'that', 'we’re', 'still', 'here”', 'after', 'the', 'plane', 'turned', 'upside', 'down', 'on', 'the', 'runway', 'Monday', '', 'John', 'Nelson', 'told', 'CNN', 'he', 'wasn’t', 'aware', 'anything', 'was', 'wrong', 'with', 'the', 'plane', '', 'calling', 'it', 'a', 'typical', 'flight', 'between', 'Minneapolis/St', '', 'Paul', 'and', 'Toronto', '', 'but', 'said', 'he', 'did', 'notice', 'gusty', 'winds', 'and', 'a', 'lot', 'of', 'snow', 'on', 'the', 'runway', 'as', 'they', 'approached', '', '“When', 'we', 'hit', '', 'it', 'was', 'just', 'a', 'super', 'hard', '—', 'it', 'hit', 'the', 'ground', '', 'and', 'the', 'plane', 'went', 'sideways', '”', 'Nelson', 'said', '', 'adding', 'that', 'he', 'saw', '“a', 'big', 'fireball”', 'out', 'of', 'the', 'left', 'side', 'of', 'the', 'plane', '', 'Nelson', 'was', 'in', 'row', '10', 'of', 'the', 'aircraft', '', 'seated', 'in', 'front', 'of', 'the', 'wing', '', 'Once', 'the', 'plane', 'stopped', '', 'Nelson', 'said', 'people', 'started', 'yelling', 'to', 'get', 'out', '', '“It', 'was', 'mass', 'chaos', '”', 'he', 'said', '', 'Nelson', 'and', 'his', 'seatmate', 'were', 'hanging', 'upside', 'down', 'when', 'the', 'plane', 'came', 'to', 'a', 'stop', '', 'They', 'unbuckled', 'themselves', 'and', 'landed', 'on', 'the', 'ceiling', 'of', 'the', 'aircraft', 'before', 'making', 'a', 'beeline', 'for', 'the', 'door', '', 'the', 'air', 'smelling', 'like', 'jet', 'fuel', '', '“We', 'tried', 'to', 'get', 'out', 'of', 'there', 'as', 'quickly', 'as', 'possible', '”', 'Nelson', 'said', '', '“Even', 'now', 'I', 'smell', 'like', 'jet', 'fuel', '”', '']\n",
      "6\n"
     ]
    }
   ],
   "source": [
    "# 이거는 re 관련한 뻘짓\n",
    "import re\n",
    "arr = re.split(r\"[\\,\\.\\s]\", str)\n",
    "print(arr)\n",
    "print(arr.count(\"said\"))"
   ]
  }
 ],
 "metadata": {
  "kernelspec": {
   "display_name": "base",
   "language": "python",
   "name": "python3"
  },
  "language_info": {
   "codemirror_mode": {
    "name": "ipython",
    "version": 3
   },
   "file_extension": ".py",
   "mimetype": "text/x-python",
   "name": "python",
   "nbconvert_exporter": "python",
   "pygments_lexer": "ipython3",
   "version": "3.12.7"
  }
 },
 "nbformat": 4,
 "nbformat_minor": 2
}
