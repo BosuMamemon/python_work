{
 "cells": [
  {
   "cell_type": "markdown",
   "metadata": {},
   "source": [
    "# OrderedDict"
   ]
  },
  {
   "cell_type": "code",
   "execution_count": 2,
   "metadata": {},
   "outputs": [
    {
     "name": "stdout",
     "output_type": "stream",
     "text": [
      "{'x': 100, 'l': 500, 'y': 200, 'z': 300}\n"
     ]
    }
   ],
   "source": [
    "# 그냥 딕셔너리의 경우\n",
    "\n",
    "d = dict()\n",
    "d['x'] = 100\n",
    "d['l'] = 500\n",
    "d['y'] = 200\n",
    "d['z'] = 300\n",
    "\n",
    "print(d)"
   ]
  },
  {
   "cell_type": "code",
   "execution_count": 8,
   "metadata": {},
   "outputs": [
    {
     "name": "stdout",
     "output_type": "stream",
     "text": [
      "l 500\n",
      "x 100\n",
      "y 200\n",
      "z 300\n",
      "\n",
      "x 100\n",
      "y 200\n",
      "z 300\n",
      "l 500\n"
     ]
    }
   ],
   "source": [
    "# OrderedDic의 경우\n",
    "\n",
    "def sortByKey(t):\n",
    "    return t[0]\n",
    "def sortByValue(t):\n",
    "    return t[1]\n",
    "\n",
    "from collections import OrderedDict\n",
    "\n",
    "d = {}\n",
    "d['x'] = 100\n",
    "d['l'] = 500\n",
    "d['y'] = 200\n",
    "d['z'] = 300\n",
    "\n",
    "for k, v in OrderedDict(sorted(d.items(), key = sortByKey)).items(): # key = 뒤에는 꼭 함수형식이 와야댐\n",
    "    print(k, v)\n",
    "\n",
    "print()\n",
    "\n",
    "for k, v in OrderedDict(sorted(d.items(), key = sortByValue)).items():\n",
    "    print(k, v)"
   ]
  },
  {
   "cell_type": "code",
   "execution_count": 12,
   "metadata": {},
   "outputs": [
    {
     "name": "stdout",
     "output_type": "stream",
     "text": [
      "0\n"
     ]
    }
   ],
   "source": [
    "# defaultdict\n",
    "\n",
    "from collections import defaultdict\n",
    "\n",
    "d = {}\n",
    "# print(d['first']) <- 이건 오류가 남... 당연함 비어있는 딕셔너리임\n",
    "\n",
    "d2 = defaultdict(lambda: 0) # default값을 0으로 설정한다는 말임\n",
    "print(d2['first'])  # 그래서 비어있는 곳을 출력하면 기본값이 나옴!!!\n",
    "\n"
   ]
  },
  {
   "cell_type": "code",
   "execution_count": null,
   "metadata": {},
   "outputs": [
    {
     "name": "stdout",
     "output_type": "stream",
     "text": [
      "{'yellow': 3, 'blue': 4, 'red': 5}\n",
      "defaultdict(<class 'list'>, {'yellow': [1, 3], 'blue': [2, 4], 'red': [5]})\n"
     ]
    }
   ],
   "source": [
    "# defaultdict(2)\n",
    "\n",
    "s = [('yellow', 1), ('blue', 2), ('yellow', 3), ('blue', 4), ('red', 5)]\n",
    "d = dict()\n",
    "\n",
    "for k, v in s:\n",
    "    d[k] = v\n",
    "\n",
    "print(d)    # 딕셔너리는 중복값이 안들어감 ㅜㅜ\n",
    "\n",
    "d2 = defaultdict(list)  # 기본값을 list로 지정했다는 뜻\n",
    "for k, v in s:\n",
    "    d2[k].append(v)\n",
    "\n",
    "print(d2)   # 기본값을 리스트로 지정한 defaultdict는 이렇게 중복값을 리스트로 넣을 수 있음~~~"
   ]
  },
  {
   "cell_type": "code",
   "execution_count": 18,
   "metadata": {},
   "outputs": [
    {
     "name": "stdout",
     "output_type": "stream",
     "text": [
      "Counter({' ': 3, 't': 3, 'i': 2, 'a': 2, 'h': 2, 'B': 1, 'g': 1, 'd': 1, 'w': 1, 'P': 1, 'y': 1, 'o': 1, 'n': 1})\n"
     ]
    }
   ],
   "source": [
    "# Counter 모듈\n",
    "\n",
    "from collections import Counter\n",
    "\n",
    "text = 'Big data with Python'\n",
    "list1 = list(text)\n",
    "c = Counter(list1)\n",
    "print(c)\n"
   ]
  },
  {
   "cell_type": "code",
   "execution_count": 23,
   "metadata": {},
   "outputs": [
    {
     "name": "stdout",
     "output_type": "stream",
     "text": [
      "Counter({'the': 9, 'and': 5, 'to': 4, 'White': 4, 'House': 3, 'fact': 3, 'will': 3, 'Federal': 3, 'Commission': 3, 'for': 2, 'independent': 2, 'agencies,': 2, 'of': 2, 'The': 2, 'with': 2, 'their': 2, 'According': 1, 'a': 1, 'sheet,': 1, 'no': 1, 'carve-outs': 1, 'exist': 1, 'but': 1, 'order': 1, 'not': 1, 'apply': 1, 'monetary': 1, 'policy': 1, 'functions': 1, 'Reserve.': 1, 'agencies': 1, 'must': 1, 'also': 1, '“consult': 1, 'on': 1, 'priorities': 1, 'strategic': 1, 'plans,': 1, 'Hou0se': 1, 'set': 1, 'performance': 1, 'standards”': 1, 'Office': 1, 'Management': 1, 'Budget,': 1, 'led': 1, 'by': 1, 'Project': 1, '2025': 1, 'co-author': 1, 'Russell': 1, 'Vought,': 1, '“adjusting': 1, 'apportionments': 1, 'ensure': 1, 'tax': 1, 'dollars': 1, 'are': 1, 'spent': 1, 'wisely,”': 1, 'according': 1, 'sheet.': 1, 'sheet': 1, 'specifically': 1, 'calls': 1, 'out': 1, 'like': 1, 'Trade': 1, '(FTC),': 1, 'Communications': 1, '(FCC),': 1, 'Securities': 1, 'Exchange': 1, '(SEC)': 1, '“exercising': 1, 'enormous': 1, 'power': 1, 'over': 1, 'American': 1, 'people': 1, 'without': 1, 'Presidential': 1, 'oversight.”': 1})\n"
     ]
    }
   ],
   "source": [
    "# Counter 모듈(2)\n",
    "\n",
    "s1 = '''\n",
    "According to a White House fact sheet, no carve-outs will exist for independent agencies, but the order will not apply to the monetary policy functions of the Federal Reserve.\n",
    "The agencies must also “consult with the White House on their priorities and strategic plans, and the White Hou0se will set their performance standards” with the Office of Management and Budget, led by Project 2025 co-author Russell Vought, “adjusting apportionments to ensure tax dollars are spent wisely,” according to the fact sheet.\n",
    "The White House fact sheet specifically calls out independent agencies, like the Federal Trade Commission (FTC), Federal Communications Commission (FCC), and Securities and Exchange Commission (SEC) for “exercising enormous power over the American people without Presidential oversight.”\n",
    "'''\n",
    "\n",
    "list2 = s1.split()\n",
    "c2 =Counter(list2)\n",
    "print(c2)"
   ]
  },
  {
   "cell_type": "code",
   "execution_count": 27,
   "metadata": {},
   "outputs": [
    {
     "name": "stdout",
     "output_type": "stream",
     "text": [
      "['red', 'red', 'red', 'blue', 'blue', 'blue', 'blue', 'blue', 'green', 'green', 'green', 'green']\n",
      "Counter({'blue': 5, 'green': 4, 'red': 3})\n"
     ]
    }
   ],
   "source": [
    "# Counter 모듈(3)\n",
    "\n",
    "c1 = Counter({'red': 3, 'blue': 5, 'green': 4})\n",
    "a = list(c1.elements()) # 카운터를 먼저 만들고 그걸 리스트로 만드는 것도 가능가능\n",
    "print(a)\n",
    "\n",
    "c2 = Counter(a) # 물론 리스트로 만든 카운터를 다시 카운터로 만드는 것도 가능\n",
    "print(c2)"
   ]
  },
  {
   "cell_type": "code",
   "execution_count": 30,
   "metadata": {},
   "outputs": [
    {
     "name": "stdout",
     "output_type": "stream",
     "text": [
      "Counter({'a': 3, 'b': 0, 'c': -3, 'd': -6})\n",
      "Counter({'a': 4, 'b': 2})\n",
      "Counter({'a': 1})\n",
      "Counter({'d': 4, 'a': 3, 'c': 3, 'b': 2})\n"
     ]
    }
   ],
   "source": [
    "# Counter 연산\n",
    "c = Counter(a = 4, b = 2, c = 0, d = -2)\n",
    "d = Counter(a = 1, b = 2, c = 3, d = 4)\n",
    "c.subtract(d)\n",
    "print(c)\n",
    "\n",
    "print(c + d)\n",
    "print(c & d)\n",
    "print(c | d)"
   ]
  }
 ],
 "metadata": {
  "kernelspec": {
   "display_name": "base",
   "language": "python",
   "name": "python3"
  },
  "language_info": {
   "codemirror_mode": {
    "name": "ipython",
    "version": 3
   },
   "file_extension": ".py",
   "mimetype": "text/x-python",
   "name": "python",
   "nbconvert_exporter": "python",
   "pygments_lexer": "ipython3",
   "version": "3.12.7"
  }
 },
 "nbformat": 4,
 "nbformat_minor": 2
}
