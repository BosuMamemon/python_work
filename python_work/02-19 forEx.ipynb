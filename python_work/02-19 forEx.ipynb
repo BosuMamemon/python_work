{
 "cells": [
  {
   "cell_type": "markdown",
   "metadata": {},
   "source": [
    "# for문"
   ]
  },
  {
   "cell_type": "code",
   "execution_count": 4,
   "metadata": {},
   "outputs": [
    {
     "name": "stdout",
     "output_type": "stream",
     "text": [
      "1\n",
      "2\n",
      "3\n",
      "4\n",
      "5\n",
      "6\n",
      "7\n",
      "8\n",
      "9\n"
     ]
    }
   ],
   "source": [
    "for i in range(1, 10, 1): # for i in range(start, stop, step)에서 stop은 i < stop이라는 의미임\n",
    "    print(i)"
   ]
  },
  {
   "cell_type": "code",
   "execution_count": 6,
   "metadata": {},
   "outputs": [
    {
     "name": "stdout",
     "output_type": "stream",
     "text": [
      "1\n",
      "2\n",
      "3\n",
      "4\n",
      "5\n",
      "6\n",
      "7\n",
      "8\n",
      "9\n"
     ]
    }
   ],
   "source": [
    "for i in range(1, 10): # step의 기본값은 1임\n",
    "    print(i)"
   ]
  },
  {
   "cell_type": "code",
   "execution_count": null,
   "metadata": {},
   "outputs": [
    {
     "name": "stdout",
     "output_type": "stream",
     "text": [
      "0\n",
      "1\n",
      "2\n",
      "3\n",
      "4\n",
      "5\n",
      "6\n",
      "7\n",
      "8\n",
      "9\n"
     ]
    }
   ],
   "source": [
    "for i in range(10): # start의 기본값은 0임\n",
    "    print(i)"
   ]
  },
  {
   "cell_type": "code",
   "execution_count": 9,
   "metadata": {},
   "outputs": [
    {
     "name": "stdout",
     "output_type": "stream",
     "text": [
      "0\n",
      "2\n",
      "4\n",
      "6\n",
      "8\n"
     ]
    }
   ],
   "source": [
    "for i in range(0, 10, 2): # step이 들어갈 때는 start를 기본값으로 넣어주고 싶더라도 꼭 적어줘야 파이썬이 인식을 함\n",
    "    print(i)"
   ]
  },
  {
   "cell_type": "code",
   "execution_count": 13,
   "metadata": {},
   "outputs": [
    {
     "name": "stdout",
     "output_type": "stream",
     "text": [
      "10\n",
      "9\n",
      "8\n",
      "7\n",
      "6\n",
      "5\n",
      "4\n",
      "3\n",
      "2\n",
      "1\n"
     ]
    }
   ],
   "source": [
    "for i in range(10, 0, -1): # 이럴 땐 step을 -1이라 꼭 적어줘야 역순이라고 인식을 함\n",
    "    print(i)"
   ]
  },
  {
   "cell_type": "code",
   "execution_count": 15,
   "metadata": {},
   "outputs": [
    {
     "name": "stdout",
     "output_type": "stream",
     "text": [
      "1\n",
      "2\n",
      "3\n",
      "4\n",
      "5\n"
     ]
    }
   ],
   "source": [
    "a = [1, 2, 3, 4, 5]\n",
    "\n",
    "for i in a: # 리스트를 미리 정하고 넣으면 그냥 자바의 for each구문이랑 같아짐\n",
    "    print(i)"
   ]
  },
  {
   "cell_type": "code",
   "execution_count": null,
   "metadata": {},
   "outputs": [
    {
     "name": "stdout",
     "output_type": "stream",
     "text": [
      "10\n",
      "20\n",
      "30\n",
      "40\n",
      "50\n"
     ]
    }
   ],
   "source": [
    "t = (10, 20, 30, 40, 50)\n",
    "\n",
    "for i in t: # 튜플도 리스트처럼 사용할 수 있음\n",
    "    print(i)"
   ]
  },
  {
   "cell_type": "code",
   "execution_count": 22,
   "metadata": {},
   "outputs": [
    {
     "name": "stdout",
     "output_type": "stream",
     "text": [
      "홍길동\n",
      "박경미\n",
      "정현민\n",
      "('홍길동', 100)\n",
      "('박경미', 85)\n",
      "('정현민', 90)\n",
      "홍길동의 점수는 100점입니다.\n",
      "박경미의 점수는 85점입니다.\n",
      "정현민의 점수는 90점입니다.\n"
     ]
    }
   ],
   "source": [
    "d = {\"홍길동\":100, \"박경미\":85, \"정현민\":90}\n",
    "\n",
    "for i in d: # 딕셔너리를 그냥 range로 잡으면 key값만 i에 집어넣음\n",
    "    print(i)\n",
    "\n",
    "for i in d.items(): # 키랑 밸류를 다 출력하려면 items() 함수를 써야됨\n",
    "    print(i)\n",
    "\n",
    "for k, v in d.items(): # 인수를 2개 받으면 키랑 밸류로 포매팅도 할 수 있음\n",
    "    print(f\"{k}의 점수는 {v}점입니다.\")"
   ]
  },
  {
   "cell_type": "code",
   "execution_count": 25,
   "metadata": {},
   "outputs": [
    {
     "name": "stdout",
     "output_type": "stream",
     "text": [
      "1\n",
      "4\n",
      "5\n"
     ]
    }
   ],
   "source": [
    "s = {1, 4, 5}\n",
    "\n",
    "for i in s: # 집합도 됨\n",
    "    print(i)"
   ]
  },
  {
   "cell_type": "code",
   "execution_count": 29,
   "metadata": {},
   "outputs": [
    {
     "name": "stdout",
     "output_type": "stream",
     "text": [
      "[1, 2, 3]\n",
      "[10, 20, 30]\n",
      "[100, 200, 300]\n",
      "\n",
      "1 2 3 \n",
      "10 20 30 \n",
      "100 200 300 \n"
     ]
    }
   ],
   "source": [
    "# 2차원 리스트 for문으로 요소 출력하기\n",
    "a = [[1, 2, 3], [10, 20, 30], [100, 200, 300]]\n",
    "\n",
    "# 차이를 비교해보셈\n",
    "for i in a: \n",
    "    print(i)\n",
    "\n",
    "print()\n",
    "\n",
    "for i in a:\n",
    "    for j in i:\n",
    "        print(j, end = \" \")\n",
    "    print()\n"
   ]
  },
  {
   "cell_type": "code",
   "execution_count": 30,
   "metadata": {},
   "outputs": [
    {
     "name": "stdout",
     "output_type": "stream",
     "text": [
      "1번 학생은 합격입니다.\n",
      "2번 학생은 불합격입니다.\n",
      "3번 학생은 합격입니다.\n",
      "4번 학생은 불합격입니다.\n",
      "5번 학생은 합격입니다.\n"
     ]
    }
   ],
   "source": [
    "# 예제\n",
    "\n",
    "marks = [90, 25, 67, 45, 80]    # 학생들의 시험 점수 리스트\n",
    "\n",
    "number = 0\n",
    "for mark in marks:\n",
    "    number += 1\n",
    "    if mark >= 60:\n",
    "        print(f\"{number}번 학생은 합격입니다.\")\n",
    "    else:\n",
    "        print(f\"{number}번 학생은 불합격입니다.\")"
   ]
  },
  {
   "cell_type": "code",
   "execution_count": 79,
   "metadata": {},
   "outputs": [
    {
     "name": "stdout",
     "output_type": "stream",
     "text": [
      "[47.0, 74.0, 51.0, 60.0, 90.7]\n"
     ]
    }
   ],
   "source": [
    "# 예제 2(ppt 예제 5-2)\n",
    "\n",
    "kor = [49, 80, 20, 100, 82]\n",
    "math = [43, 60, 85, 30, 90]\n",
    "eng = [49, 82, 48, 50, 100]\n",
    "\n",
    "scores = [kor, math, eng]    # 2차원 리스트 생성\n",
    "avgs = []\n",
    "i = 0\n",
    "j = 0\n",
    "\n",
    "for i in range(len(scores[i])):\n",
    "    sum = 0\n",
    "    for j in scores:\n",
    "        sum += j[i]\n",
    "    avg = sum / 3\n",
    "    avgs.append(round(avg, 1))\n",
    "print(avgs)\n",
    "\n"
   ]
  },
  {
   "cell_type": "code",
   "execution_count": 81,
   "metadata": {},
   "outputs": [
    {
     "name": "stdout",
     "output_type": "stream",
     "text": [
      "[3, 6, 9, 12, 15]\n"
     ]
    }
   ],
   "source": [
    "a = [1, 2, 3, 4, 5]\n",
    "result = []\n",
    "\n",
    "for i in a:\n",
    "    result.append(i * 3)\n",
    "\n",
    "print(result)"
   ]
  },
  {
   "cell_type": "code",
   "execution_count": 94,
   "metadata": {},
   "outputs": [
    {
     "name": "stdout",
     "output_type": "stream",
     "text": [
      "[3, 6, 9, 12, 15]\n",
      "[6, 12]\n",
      "[1, 6, 3, 12, 5]\n"
     ]
    }
   ],
   "source": [
    "# 위와 똑같은 문장을 리스트 컴프리헨션을 사용하여 작성하기\n",
    "\n",
    "a = [1, 2, 3, 4, 5]\n",
    "\n",
    "result = [i * 3 for i in a]\n",
    "print(result)\n",
    "\n",
    "result2 = [i * 3 for i in a if i % 2 == 0]\n",
    "print(result2)\n",
    "# 이거 아래 작성문이랑 똑같음\n",
    "# for i in a:\n",
    "#     if i % 2 == 0:\n",
    "#         result.append(i * 3)\n",
    "\n",
    "result3 = [i * 3 if i % 2 == 0 else i for i in a]\n",
    "print(result3)"
   ]
  },
  {
   "cell_type": "markdown",
   "metadata": {},
   "source": [
    "# 리스트 컴프리헨션\n",
    "<p>\n",
    "[표현식 for 변수 in collection if 조건] <br>\n",
    "[표현식 if 조건 else 표현식 for 변수 in collection]\n",
    "</p>"
   ]
  },
  {
   "cell_type": "code",
   "execution_count": 108,
   "metadata": {},
   "outputs": [
    {
     "name": "stdout",
     "output_type": "stream",
     "text": [
      "오렌지 주스를 주문합니다.\n",
      "당신의 잔액 = 900\n",
      "\n",
      "End...\n"
     ]
    }
   ],
   "source": [
    "# 예제 3(ppt 예제 5-1)\n",
    "\n",
    "flag = False\n",
    "while flag is False:\n",
    "    wallet = int(input('잔액을 입력해주십시오.'))\n",
    "    menu1 = 100\n",
    "    menu2 = 200\n",
    "    menu3 = 300\n",
    "    while True:\n",
    "        menu = int(input('1. 오렌지 주스 /  2. 커피 /  3. 콜라 / 4. 종료'))\n",
    "\n",
    "        if menu == 1:\n",
    "            if wallet > menu1:\n",
    "                wallet -= menu1\n",
    "                print(f'오렌지 주스를 주문합니다.\\n당신의 잔액 = {wallet}\\n')\n",
    "            else:\n",
    "                print('잔액이 부족합니다.')\n",
    "        elif menu == 2:\n",
    "            if wallet > menu2:\n",
    "                wallet -= menu2\n",
    "                print(f'커피를 주문합니다.\\n당신의 잔액 = {wallet}\\n')\n",
    "            else:\n",
    "                print(f'잔액이 부족합니다.\\n')\n",
    "        elif menu == 3:\n",
    "            if wallet > menu3:\n",
    "                wallet -= menu3\n",
    "                print(f'콜라를 주문합니다.\\n당신의 잔액 = {wallet}\\n')\n",
    "            else:\n",
    "                print(f'잔액이 부족합니다.\\n')\n",
    "        elif menu == 4:\n",
    "            flag = True\n",
    "            break\n",
    "        else:\n",
    "            print('입력 오류.\\n')\n",
    "        \n",
    "        re = int(input('잔액을 갱신하시려면 1을, 종료하시려면 2를, 다시 주문하시려면 아무 문자나 입력하십시오.'))\n",
    "        if re == 1:\n",
    "            break\n",
    "        elif re == 2:\n",
    "            flag = True\n",
    "            break\n",
    "\n",
    "print('End...')\n",
    "\n"
   ]
  },
  {
   "cell_type": "code",
   "execution_count": null,
   "metadata": {},
   "outputs": [
    {
     "name": "stdout",
     "output_type": "stream",
     "text": [
      "콜라를 주문합니다.\n",
      "당신의 잔액 = 0\n",
      "\n",
      "잔액이 부족합니다.\n",
      "\n",
      "잔액이 부족합니다.\n",
      "\n",
      "End...\n"
     ]
    }
   ],
   "source": [
    "# 딕셔너리 사용해서 위에꺼 다시 작성하기\n",
    "prices = {1:100, 2:200, 3:300}\n",
    "menus = {1:\"오렌지 주스\", 2:\"커피\", 3:\"콜라\"}\n",
    "\n",
    "flag = False\n",
    "while flag is False:\n",
    "    wallet = int(input('잔액을 입력해주십시오.'))\n",
    "    while True:\n",
    "        menu = int(input('1. 오렌지 주스 /  2. 커피 /  3. 콜라 / 4. 종료'))\n",
    "        if menu == 4:\n",
    "            flag = True\n",
    "            break\n",
    "\n",
    "        if wallet >= prices[menu]:\n",
    "            wallet -= prices[menu]\n",
    "            print(f'{menus[menu]}를 주문합니다.\\n당신의 잔액 = {wallet}\\n')\n",
    "        else:\n",
    "            print('잔액이 부족합니다.\\n')\n",
    "        \n",
    "        re = int(input('잔액을 갱신하시려면 1을, 종료하시려면 2를, 다시 주문하시려면 아무 문자나 입력하십시오.'))\n",
    "        if re == 1:\n",
    "            break\n",
    "        elif re == 2:\n",
    "            flag = True\n",
    "            break\n",
    "\n",
    "print('End...')"
   ]
  }
 ],
 "metadata": {
  "kernelspec": {
   "display_name": "base",
   "language": "python",
   "name": "python3"
  },
  "language_info": {
   "codemirror_mode": {
    "name": "ipython",
    "version": 3
   },
   "file_extension": ".py",
   "mimetype": "text/x-python",
   "name": "python",
   "nbconvert_exporter": "python",
   "pygments_lexer": "ipython3",
   "version": "3.12.7"
  }
 },
 "nbformat": 4,
 "nbformat_minor": 2
}
