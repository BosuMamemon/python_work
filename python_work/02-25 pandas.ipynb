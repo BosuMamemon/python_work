{
 "cells": [
  {
   "cell_type": "code",
   "execution_count": 1,
   "metadata": {},
   "outputs": [
    {
     "name": "stdout",
     "output_type": "stream",
     "text": [
      "Requirement already satisfied: numpy in c:\\users\\it\\anaconda3\\lib\\site-packages (1.26.4)\n",
      "Requirement already satisfied: pandas in c:\\users\\it\\anaconda3\\lib\\site-packages (2.2.2)\n",
      "Requirement already satisfied: numpy>=1.26.0 in c:\\users\\it\\anaconda3\\lib\\site-packages (from pandas) (1.26.4)\n",
      "Requirement already satisfied: python-dateutil>=2.8.2 in c:\\users\\it\\anaconda3\\lib\\site-packages (from pandas) (2.9.0.post0)\n",
      "Requirement already satisfied: pytz>=2020.1 in c:\\users\\it\\anaconda3\\lib\\site-packages (from pandas) (2024.1)\n",
      "Requirement already satisfied: tzdata>=2022.7 in c:\\users\\it\\anaconda3\\lib\\site-packages (from pandas) (2023.3)\n",
      "Requirement already satisfied: six>=1.5 in c:\\users\\it\\anaconda3\\lib\\site-packages (from python-dateutil>=2.8.2->pandas) (1.16.0)\n"
     ]
    }
   ],
   "source": [
    "! pip install numpy\n",
    "! pip install pandas"
   ]
  },
  {
   "cell_type": "code",
   "execution_count": 3,
   "metadata": {},
   "outputs": [],
   "source": [
    "import numpy as np\n",
    "import pandas as pd"
   ]
  },
  {
   "cell_type": "code",
   "execution_count": 13,
   "metadata": {},
   "outputs": [
    {
     "name": "stdout",
     "output_type": "stream",
     "text": [
      "a    2\n",
      "b    3\n",
      "c    4\n",
      "d    1\n",
      "e    5\n",
      "dtype: int64\n",
      "<class 'pandas.core.series.Series'>\n",
      "int64\n",
      "[2 3 4 1 5]\n",
      "Index(['a', 'b', 'c', 'd', 'e'], dtype='object')\n"
     ]
    }
   ],
   "source": [
    "# Series 생성(1차원 자료)\n",
    "list1 = [2, 3 ,4, 1, 5]\n",
    "s1 = pd.Series(list1, index=['a', 'b', 'c', 'd', 'e'])  # 인덱스를 원하는 대로 바꿀 수도 있음\n",
    "print(s1)   # 인덱스와 열로 구성되어있음\n",
    "print(type(s1))\n",
    "print(s1.dtype)\n",
    "print(s1.values)\n",
    "print(s1.index)"
   ]
  },
  {
   "cell_type": "code",
   "execution_count": 15,
   "metadata": {},
   "outputs": [
    {
     "name": "stdout",
     "output_type": "stream",
     "text": [
      "0    2\n",
      "1    3\n",
      "2    4\n",
      "3    1\n",
      "4    5\n",
      "dtype: int64\n",
      "<class 'pandas.core.series.Series'>\n",
      "int64\n",
      "[2 3 4 1 5]\n",
      "RangeIndex(start=0, stop=5, step=1)\n"
     ]
    }
   ],
   "source": [
    "# Series 생성(1차원 자료) (2)\n",
    "\n",
    "s2 = pd.Series(list1)\n",
    "print(s2)\n",
    "print(type(s2))\n",
    "print(s2.dtype)\n",
    "print(s2.values)\n",
    "print(s2.index)"
   ]
  },
  {
   "cell_type": "code",
   "execution_count": 18,
   "metadata": {},
   "outputs": [
    {
     "name": "stdout",
     "output_type": "stream",
     "text": [
      "kim     85\n",
      "lee     75\n",
      "choi    65\n",
      "dtype: int64\n",
      "<class 'pandas.core.series.Series'>\n",
      "int64\n",
      "[85 75 65]\n",
      "Index(['kim', 'lee', 'choi'], dtype='object')\n"
     ]
    }
   ],
   "source": [
    "# Series 생성(1차원 자료) (3)\n",
    "\n",
    "sdata = {'kim': 85, 'lee': 75, 'choi': 65}\n",
    "s3 = pd.Series(sdata)\n",
    "print(s3)\n",
    "print(type(s3))\n",
    "print(s3.dtype)\n",
    "print(s3.values)\n",
    "print(s3.index) # 딕셔너리는 인덱스가 자동으로 키값으로 들어감"
   ]
  },
  {
   "cell_type": "code",
   "execution_count": 21,
   "metadata": {},
   "outputs": [
    {
     "data": {
      "text/html": [
       "<div>\n",
       "<style scoped>\n",
       "    .dataframe tbody tr th:only-of-type {\n",
       "        vertical-align: middle;\n",
       "    }\n",
       "\n",
       "    .dataframe tbody tr th {\n",
       "        vertical-align: top;\n",
       "    }\n",
       "\n",
       "    .dataframe thead th {\n",
       "        text-align: right;\n",
       "    }\n",
       "</style>\n",
       "<table border=\"1\" class=\"dataframe\">\n",
       "  <thead>\n",
       "    <tr style=\"text-align: right;\">\n",
       "      <th></th>\n",
       "      <th>name</th>\n",
       "      <th>year</th>\n",
       "      <th>points</th>\n",
       "    </tr>\n",
       "  </thead>\n",
       "  <tbody>\n",
       "    <tr>\n",
       "      <th>0</th>\n",
       "      <td>민준</td>\n",
       "      <td>2023</td>\n",
       "      <td>1.5</td>\n",
       "    </tr>\n",
       "    <tr>\n",
       "      <th>1</th>\n",
       "      <td>현우</td>\n",
       "      <td>2024</td>\n",
       "      <td>1.7</td>\n",
       "    </tr>\n",
       "    <tr>\n",
       "      <th>2</th>\n",
       "      <td>서연</td>\n",
       "      <td>2022</td>\n",
       "      <td>3.6</td>\n",
       "    </tr>\n",
       "    <tr>\n",
       "      <th>3</th>\n",
       "      <td>동현</td>\n",
       "      <td>2025</td>\n",
       "      <td>2.4</td>\n",
       "    </tr>\n",
       "    <tr>\n",
       "      <th>4</th>\n",
       "      <td>지현</td>\n",
       "      <td>2024</td>\n",
       "      <td>2.9</td>\n",
       "    </tr>\n",
       "  </tbody>\n",
       "</table>\n",
       "</div>"
      ],
      "text/plain": [
       "  name  year  points\n",
       "0   민준  2023     1.5\n",
       "1   현우  2024     1.7\n",
       "2   서연  2022     3.6\n",
       "3   동현  2025     2.4\n",
       "4   지현  2024     2.9"
      ]
     },
     "execution_count": 21,
     "metadata": {},
     "output_type": "execute_result"
    }
   ],
   "source": [
    "# DataFrame 생성\n",
    "\n",
    "data = {\n",
    "    'name': ['민준', '현우', '서연', '동현', '지현'],\n",
    "    'year': [2023, 2024, 2022, 2025,  2024],\n",
    "    'points': [1.5, 1.7, 3.6, 2.4, 2.9]\n",
    "    }\n",
    "\n",
    "df = pd.DataFrame(data)\n",
    "df"
   ]
  },
  {
   "cell_type": "code",
   "execution_count": 31,
   "metadata": {},
   "outputs": [
    {
     "data": {
      "text/html": [
       "<div>\n",
       "<style scoped>\n",
       "    .dataframe tbody tr th:only-of-type {\n",
       "        vertical-align: middle;\n",
       "    }\n",
       "\n",
       "    .dataframe tbody tr th {\n",
       "        vertical-align: top;\n",
       "    }\n",
       "\n",
       "    .dataframe thead th {\n",
       "        text-align: right;\n",
       "    }\n",
       "</style>\n",
       "<table border=\"1\" class=\"dataframe\">\n",
       "  <thead>\n",
       "    <tr style=\"text-align: right;\">\n",
       "      <th></th>\n",
       "      <th>names</th>\n",
       "      <th>years</th>\n",
       "      <th>points</th>\n",
       "    </tr>\n",
       "  </thead>\n",
       "  <tbody>\n",
       "    <tr>\n",
       "      <th>0</th>\n",
       "      <td>민준</td>\n",
       "      <td>2023</td>\n",
       "      <td>1.5</td>\n",
       "    </tr>\n",
       "    <tr>\n",
       "      <th>1</th>\n",
       "      <td>현우</td>\n",
       "      <td>2024</td>\n",
       "      <td>1.7</td>\n",
       "    </tr>\n",
       "    <tr>\n",
       "      <th>2</th>\n",
       "      <td>서연</td>\n",
       "      <td>2022</td>\n",
       "      <td>3.6</td>\n",
       "    </tr>\n",
       "    <tr>\n",
       "      <th>3</th>\n",
       "      <td>동현</td>\n",
       "      <td>2025</td>\n",
       "      <td>2.4</td>\n",
       "    </tr>\n",
       "    <tr>\n",
       "      <th>4</th>\n",
       "      <td>지현</td>\n",
       "      <td>2024</td>\n",
       "      <td>2.9</td>\n",
       "    </tr>\n",
       "  </tbody>\n",
       "</table>\n",
       "</div>"
      ],
      "text/plain": [
       "  names years points\n",
       "0    민준  2023    1.5\n",
       "1    현우  2024    1.7\n",
       "2    서연  2022    3.6\n",
       "3    동현  2025    2.4\n",
       "4    지현  2024    2.9"
      ]
     },
     "execution_count": 31,
     "metadata": {},
     "output_type": "execute_result"
    }
   ],
   "source": [
    "# DataFrame 생성 (2)\n",
    "names = ['민준', '현우', '서연', '동현', '지현']\n",
    "years = [2023, 2024, 2022, 2025,  2024]\n",
    "points = [1.5, 1.7, 3.6, 2.4, 2.9]\n",
    "\n",
    "data = [names, years, points]   # 2차원 리스트\n",
    "\n",
    "df1 = pd.DataFrame(data).T\n",
    "df1.columns = ['names', 'years', 'points']\n",
    "\n",
    "df1"
   ]
  },
  {
   "cell_type": "code",
   "execution_count": null,
   "metadata": {},
   "outputs": [
    {
     "name": "stdout",
     "output_type": "stream",
     "text": [
      "      names years points\n",
      "one      민준  2023    1.5\n",
      "two      현우  2024    1.7\n",
      "three    서연  2022    3.6\n",
      "four     동현  2025    2.4\n",
      "five     지현  2024    2.9\n",
      "Index(['one', 'two', 'three', 'four', 'five'], dtype='object')\n",
      "Index(['names', 'years', 'points'], dtype='object')\n",
      "[['민준' '2023' '1.5']\n",
      " ['현우' '2024' '1.7']\n",
      " ['서연' '2022' '3.6']\n",
      " ['동현' '2025' '2.4']\n",
      " ['지현' '2024' '2.9']]\n"
     ]
    }
   ],
   "source": [
    "# DataFrame 생성 (3)\n",
    "\n",
    "arr = np.array(data).T\n",
    "\n",
    "df2 = pd.DataFrame(\n",
    "    arr,\n",
    "    columns=['names', 'years', 'points'],\n",
    "    index=['one', 'two', 'three', 'four', 'five']\n",
    "    )\n",
    "\n",
    "print(df2)\n",
    "print(df2.index)\n",
    "print(df2.columns)\n",
    "print(df2.values)"
   ]
  },
  {
   "cell_type": "code",
   "execution_count": 36,
   "metadata": {},
   "outputs": [
    {
     "name": "stdout",
     "output_type": "stream",
     "text": [
      "one      민준\n",
      "two      현우\n",
      "three    서연\n",
      "four     동현\n",
      "five     지현\n",
      "Name: names, dtype: object\n",
      "one      2023\n",
      "two      2024\n",
      "three    2022\n",
      "four     2025\n",
      "five     2024\n",
      "Name: years, dtype: object\n",
      "one      1.5\n",
      "two      1.7\n",
      "three    3.6\n",
      "four     2.4\n",
      "five     2.9\n",
      "Name: points, dtype: object\n"
     ]
    }
   ],
   "source": [
    "# 데이터프레임의 한 열을 갖고오면 그건 시리즈임 ㅇㅇ\n",
    "\n",
    "names = df2['names']\n",
    "years = df2['years']\n",
    "points = df2['points']\n",
    "\n",
    "print(names)\n",
    "print(years)\n",
    "print(points)"
   ]
  },
  {
   "cell_type": "code",
   "execution_count": 41,
   "metadata": {},
   "outputs": [
    {
     "name": "stdout",
     "output_type": "stream",
     "text": [
      "<class 'pandas.core.frame.DataFrame'>\n",
      "Index: 5 entries, one to five\n",
      "Data columns (total 3 columns):\n",
      " #   Column  Non-Null Count  Dtype \n",
      "---  ------  --------------  ----- \n",
      " 0   names   5 non-null      object\n",
      " 1   years   5 non-null      object\n",
      " 2   points  5 non-null      object\n",
      "dtypes: object(3)\n",
      "memory usage: 160.0+ bytes\n"
     ]
    }
   ],
   "source": [
    "# 데이터프레임의 전반적인 정보를 그냥 딸깍 한번으로 보고싶을 때\n",
    "df2.info()"
   ]
  },
  {
   "cell_type": "code",
   "execution_count": 49,
   "metadata": {},
   "outputs": [],
   "source": [
    "chocolate_df = pd.read_csv('data/chocolate_rating.csv', header=None)\n",
    "chocolate_df.columns = ['id', 'year', 'kakao%', 'rating']\n",
    "chocolate_df.to_csv('data/chololate_df.csv', index=False)    # index=False를 안하면 인덱스까지 저장되어서 열이 하나 더 늘어난다."
   ]
  },
  {
   "cell_type": "code",
   "execution_count": 50,
   "metadata": {},
   "outputs": [],
   "source": [
    "character_df = pd.read_excel('data/characters.xlsx')\n",
    "character_df.to_excel('data/character_df.xlsx', index=False)"
   ]
  }
 ],
 "metadata": {
  "kernelspec": {
   "display_name": "base",
   "language": "python",
   "name": "python3"
  },
  "language_info": {
   "codemirror_mode": {
    "name": "ipython",
    "version": 3
   },
   "file_extension": ".py",
   "mimetype": "text/x-python",
   "name": "python",
   "nbconvert_exporter": "python",
   "pygments_lexer": "ipython3",
   "version": "3.12.7"
  }
 },
 "nbformat": 4,
 "nbformat_minor": 2
}
