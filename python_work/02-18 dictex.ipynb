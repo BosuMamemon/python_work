{
 "cells": [
  {
   "cell_type": "code",
   "execution_count": 8,
   "metadata": {},
   "outputs": [],
   "source": [
    "# 딕셔너리 시간!!\n",
    "# {} 중괄호로 쌈\n",
    "# 요소는 키와 밸류로 나뉘어서, key:value의 형태로 작성해야 함\n",
    "dic = {\"name\":\"홍길동\", \"phone\":\"010-1111-1111\", \"birth\":\"1225\"}"
   ]
  },
  {
   "cell_type": "code",
   "execution_count": 9,
   "metadata": {},
   "outputs": [
    {
     "name": "stdout",
     "output_type": "stream",
     "text": [
      "{'name': '홍길동', 'phone': '010-1111-1111', 'birth': '1225'}\n",
      "홍길동\n",
      "010-1111-1111\n",
      "1225\n"
     ]
    }
   ],
   "source": [
    "# 딕셔너리 요소 불러오는 법~~~~\n",
    "print(dic)\n",
    "print(dic[\"name\"])\n",
    "print(dic[\"phone\"])\n",
    "print(dic[\"birth\"])"
   ]
  },
  {
   "cell_type": "code",
   "execution_count": 10,
   "metadata": {},
   "outputs": [
    {
     "name": "stdout",
     "output_type": "stream",
     "text": [
      "{'name': '홍길동', 'phone': '010-1111-1111', 'birth': '1225', 'gender': '남자', 'age': 20}\n"
     ]
    }
   ],
   "source": [
    "# 딕셔너리 요소 삽입하는 법~~~~\n",
    "dic[\"gender\"] = \"남자\"\n",
    "dic[\"age\"] = 20\n",
    "print(dic)"
   ]
  },
  {
   "cell_type": "code",
   "execution_count": 11,
   "metadata": {},
   "outputs": [
    {
     "name": "stdout",
     "output_type": "stream",
     "text": [
      "{'name': '홍길동', 'phone': '010-1111-1111', 'birth': '1225', 'gender': '남자'}\n"
     ]
    }
   ],
   "source": [
    "# 딕셔너리 요소 삭제하는 법~~~~~~~~~~~~~~\n",
    "del dic[\"age\"]\n",
    "print(dic)"
   ]
  },
  {
   "cell_type": "code",
   "execution_count": null,
   "metadata": {},
   "outputs": [
    {
     "name": "stdout",
     "output_type": "stream",
     "text": [
      "dict_keys(['name', 'phone', 'birth', 'gender'])\n",
      "dict_values(['홍길동', '010-1111-1111', '1225', '남자'])\n"
     ]
    }
   ],
   "source": [
    "# 딕셔너리 관련 함수~~~~~~~~~~~~~~~\n",
    "print(dic.keys())\n",
    "# keys()함수: 키값을 하나의 리스트로 반환함\n",
    "print(dic.values())\n",
    "# values()함수: 밸류를 하나의 리스트로 반환함\n",
    "print(dic.items())\n",
    "# items()함수: 키:밸류를 한쌍의 튜플로서 하나의 리스트로 반환함"
   ]
  },
  {
   "cell_type": "code",
   "execution_count": 15,
   "metadata": {},
   "outputs": [
    {
     "name": "stdout",
     "output_type": "stream",
     "text": [
      "{'name': 'bbc', 'phone': '010-1111-1111', 'birth': '1225', 'gender': '남자'}\n"
     ]
    }
   ],
   "source": [
    "dic[\"name\"] = \"bbc\"\n",
    "# 키값이 중복되지 못하므로, 위 명령으로는 name키에 들어있는 값을 바꾸는 거 밖에 못함!!!!!!!!!!\n",
    "print(dic)"
   ]
  },
  {
   "cell_type": "code",
   "execution_count": null,
   "metadata": {},
   "outputs": [
    {
     "name": "stdout",
     "output_type": "stream",
     "text": [
      "{1: 'b'}\n"
     ]
    }
   ],
   "source": [
    "# 키값 중복 예시\n",
    "d1 = {1:\"a\", 1:\"b\"}\n",
    "print(d1)\n",
    "# 중복 키값에 대해 마지막으로 작성한 밸류만 저장이 됨~~~~~~~~~~~~"
   ]
  },
  {
   "cell_type": "code",
   "execution_count": 18,
   "metadata": {},
   "outputs": [
    {
     "name": "stdout",
     "output_type": "stream",
     "text": [
      "{1: 'hi', 2: 'hi'}\n"
     ]
    }
   ],
   "source": [
    "# 키 작성 예시\n",
    "# d2 = {[1, 2]:\"hi\"} <- 리스트는 키값이 될 수 없음!!!\n",
    "# 여러 키에 동일 밸류를 집어넣겠다고 해도 일일히 당신이 다 작성해야합니다 ㅎㅎㅎ\n",
    "d2 = {1:\"hi\", 2:\"hi\"} # 이렇게요 ㅎㅎㅎ\n",
    "print(d2)"
   ]
  },
  {
   "cell_type": "code",
   "execution_count": null,
   "metadata": {},
   "outputs": [
    {
     "name": "stdout",
     "output_type": "stream",
     "text": [
      "dict_items([('name', 'bbc'), ('phone', '010-1111-1111'), ('birth', '1225'), ('gender', '남자')])\n",
      "('name', 'bbc')\n",
      "('phone', '010-1111-1111')\n",
      "('birth', '1225')\n",
      "('gender', '남자')\n",
      "name : bbc\n",
      "phone : 010-1111-1111\n",
      "birth : 1225\n",
      "gender : 남자\n"
     ]
    }
   ],
   "source": [
    "# items함수 관련\n",
    "result = dic.items()\n",
    "print(result)\n",
    "for i in result:\n",
    "    print(i)\n",
    "for k, v in result:\n",
    "    print(k, \":\", v)\n",
    "    # 튜플 요소 갯수가 2개인데 변수의 갯수도 2개다? 그럼 자동으로 아 변수에 집어넣을게 튜플의 요소구나~ 하고 파이썬이 알아먹음 ㄷㄷ 개신기"
   ]
  },
  {
   "cell_type": "code",
   "execution_count": 31,
   "metadata": {},
   "outputs": [
    {
     "name": "stdout",
     "output_type": "stream",
     "text": [
      "dict_keys(['name', 'phone', 'birth', 'gender'])\n",
      "dict_values(['bbc', '010-1111-1111', '1225', '남자'])\n",
      "dict_items([('name', 'bbc'), ('phone', '010-1111-1111'), ('birth', '1225'), ('gender', '남자')])\n",
      "bbc\n",
      "{'name': 'bbc', 'phone': '010-1111-1111', 'birth': '1225', 'gender': '남자', 'age': 20}\n",
      "{'name': 'bbc', 'phone': '010-1111-1111', 'birth': '1225', 'gender': '남자'}\n",
      "{}\n"
     ]
    }
   ],
   "source": [
    "# 총정리\n",
    "print(dic.keys())\n",
    "print(dic.values())\n",
    "print(dic.items())\n",
    "\n",
    "print(dic[\"name\"])\n",
    "dic[\"age\"] = 20\n",
    "print(dic)\n",
    "del dic[\"age\"]\n",
    "print(dic)\n",
    "dic.clear()\n",
    "print(dic)"
   ]
  }
 ],
 "metadata": {
  "kernelspec": {
   "display_name": "base",
   "language": "python",
   "name": "python3"
  },
  "language_info": {
   "codemirror_mode": {
    "name": "ipython",
    "version": 3
   },
   "file_extension": ".py",
   "mimetype": "text/x-python",
   "name": "python",
   "nbconvert_exporter": "python",
   "pygments_lexer": "ipython3",
   "version": "3.12.7"
  }
 },
 "nbformat": 4,
 "nbformat_minor": 2
}
