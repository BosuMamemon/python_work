{
 "cells": [
  {
   "cell_type": "code",
   "execution_count": null,
   "metadata": {},
   "outputs": [
    {
     "name": "stdout",
     "output_type": "stream",
     "text": [
      "{1, 2, 3}\n",
      "{10, 20, 30}\n",
      "{'l', 'h', 'o', 'e'}\n",
      "{1, 2, 3}\n"
     ]
    }
   ],
   "source": [
    "s1 = set([1, 2, 3])\n",
    "print(s1)\n",
    "s2 = {10, 20, 30, 10} # 집합은 중복값이 안들어감~\n",
    "print(s2)\n",
    "s3 = set(\"hello\") # 문자열의 글자 하나하나를 요소로서 집어넣음\n",
    "print(s3) # 집합은 중복값이 안들어가기 때문에... o가 하나 빠졌음\n",
    "s4 = set((1, 2, 3))\n",
    "print(s4)"
   ]
  },
  {
   "cell_type": "code",
   "execution_count": 10,
   "metadata": {},
   "outputs": [
    {
     "name": "stdout",
     "output_type": "stream",
     "text": [
      "{1, 2, 3, 4, 5, 6}\n",
      "{1, 2, 3, 4, 5, 6}\n",
      "{3, 4}\n",
      "{3, 4}\n",
      "{1, 2}\n",
      "{1, 2}\n",
      "{5, 6}\n",
      "{5, 6}\n"
     ]
    }
   ],
   "source": [
    "# 합집합, 교집합, 차집합 연산하기\n",
    "a = {1, 2, 3, 4}\n",
    "b = {3, 4, 5, 6}\n",
    "\n",
    "print(a | b) # 합집합!\n",
    "print(a.union(b)) # 얘도 합집합!\n",
    "print(a & b) # 교집합!\n",
    "print(a.intersection(b)) # 얘도 교집합!\n",
    "print(a - b) # 차집합 a - b!\n",
    "print(a.difference(b)) # 얘도 차집합 a - b!\n",
    "print(b - a) # 차집합 b - a\n",
    "print(b.difference(a)) # 얘도 차집합 b - a!"
   ]
  },
  {
   "cell_type": "code",
   "execution_count": null,
   "metadata": {},
   "outputs": [
    {
     "name": "stdout",
     "output_type": "stream",
     "text": [
      "{1, 2, 3, 4, 5}\n",
      "{1, 2, 3, 4}\n",
      "{1, 2, 3, 4, 5, 6, 7, 8, 9}\n"
     ]
    }
   ],
   "source": [
    "# 집합에 요소 수정하기\n",
    "a = {1, 2, 3, 4}\n",
    "a.add(5)\n",
    "print(a)\n",
    "a.remove(5) # 집합에는 위치 개념이 없어서 remove만 쓸 수 있음\n",
    "print(a)\n",
    "a.update([5, 6, 7, 8, 9]) # 한번에 변경을 여러개 해야할 때\n",
    "print(a)"
   ]
  },
  {
   "cell_type": "markdown",
   "metadata": {},
   "source": [
    "# bool 자료형\n"
   ]
  },
  {
   "cell_type": "code",
   "execution_count": null,
   "metadata": {},
   "outputs": [
    {
     "name": "stdout",
     "output_type": "stream",
     "text": [
      "false\n",
      "true\n",
      "false\n",
      "true\n"
     ]
    }
   ],
   "source": [
    "if []:\n",
    "    print(\"true\")\n",
    "else:\n",
    "    print(\"false\")\n",
    "\n",
    "if [1]:\n",
    "    print(\"true\")\n",
    "else:\n",
    "    print(\"false\")\n",
    "\n",
    "if \"\":\n",
    "    print(\"true\")\n",
    "else:\n",
    "    print(\"false\")\n",
    "    \n",
    "if \"false\":\n",
    "    print(\"true\")\n",
    "else:\n",
    "    print(\"false\")"
   ]
  },
  {
   "cell_type": "markdown",
   "metadata": {},
   "source": [
    "# 변수, 자료형"
   ]
  },
  {
   "cell_type": "code",
   "execution_count": 11,
   "metadata": {},
   "outputs": [
    {
     "name": "stdout",
     "output_type": "stream",
     "text": [
      "<class 'int'>\n",
      "<class 'str'>\n",
      "<class 'list'>\n",
      "<class 'tuple'>\n",
      "<class 'dict'>\n",
      "<class 'set'>\n"
     ]
    }
   ],
   "source": [
    "a = 1\n",
    "b = \"Python\"\n",
    "c = [1, 2, 3, 4]\n",
    "d = (1, 2, 3, 4)\n",
    "e = {\"name\":\"홍길동\"}\n",
    "f = {1, 2, 3, 4}\n",
    "\n",
    "print(type(a))\n",
    "print(type(b))\n",
    "print(type(c))\n",
    "print(type(d))\n",
    "print(type(e))\n",
    "print(type(f))"
   ]
  },
  {
   "cell_type": "code",
   "execution_count": 18,
   "metadata": {},
   "outputs": [
    {
     "name": "stdout",
     "output_type": "stream",
     "text": [
      "140723333507512\n",
      "140723332592240\n",
      "2456841322560\n",
      "140723333507512\n",
      "140723333507512\n"
     ]
    }
   ],
   "source": [
    "# 여러 변수들의 주소들~~~~~\n",
    "print(id(a))\n",
    "print(id(b))\n",
    "print(id(c))\n",
    "print(id(c[0]))\n",
    "print(id(d))"
   ]
  },
  {
   "cell_type": "code",
   "execution_count": 19,
   "metadata": {},
   "outputs": [
    {
     "name": "stdout",
     "output_type": "stream",
     "text": [
      "2456841323456\n",
      "2456841323456\n",
      "True\n",
      "[1, 4, 3]\n",
      "[1, 4, 3]\n"
     ]
    }
   ],
   "source": [
    "a=[1,2,3]\n",
    "b=a\n",
    "\n",
    "print(id(a))\n",
    "print(id(b))\n",
    "\n",
    "print(a is b)\n",
    "\n",
    "a[1] = 4\n",
    "print(a)\n",
    "print(b)"
   ]
  },
  {
   "cell_type": "code",
   "execution_count": 20,
   "metadata": {},
   "outputs": [
    {
     "name": "stdout",
     "output_type": "stream",
     "text": [
      "False\n",
      "2456841323456\n",
      "2456841220096\n"
     ]
    }
   ],
   "source": [
    "from copy import copy\n",
    "d = copy(a) # 리스트를 새로 만듬\n",
    "print(a is d)\n",
    "print(id(a))\n",
    "print(id(d))"
   ]
  },
  {
   "cell_type": "markdown",
   "metadata": {},
   "source": [
    "list\n",
    "변수 = [요소1, 요소2, ...]\n",
    "tuple\n",
    "변수 = (요소1, 요소2, ...) <- 요소 수정 불가능\n",
    "dictionary\n",
    "변수 = {key1:value1, key2:value2, ...}\n",
    "set\n",
    "변수 = {요소1, 요소2, ...} <- 인덱스 값 없으며 중복값 불가능, 집합연산 수행가능"
   ]
  }
 ],
 "metadata": {
  "kernelspec": {
   "display_name": "base",
   "language": "python",
   "name": "python3"
  },
  "language_info": {
   "codemirror_mode": {
    "name": "ipython",
    "version": 3
   },
   "file_extension": ".py",
   "mimetype": "text/x-python",
   "name": "python",
   "nbconvert_exporter": "python",
   "pygments_lexer": "ipython3",
   "version": "3.12.7"
  }
 },
 "nbformat": 4,
 "nbformat_minor": 2
}
