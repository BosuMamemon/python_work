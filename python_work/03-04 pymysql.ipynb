{
 "cells": [
  {
   "cell_type": "code",
   "execution_count": 14,
   "metadata": {},
   "outputs": [
    {
     "name": "stdout",
     "output_type": "stream",
     "text": [
      "Requirement already satisfied: pymysql in c:\\users\\it\\anaconda3\\lib\\site-packages (1.1.1)\n"
     ]
    }
   ],
   "source": [
    "! pip install pymysql\n",
    "# sqlite는 그냥 db 파일이 생성하기만 하면 되는데, mysql은 서버를 띄워야 함"
   ]
  },
  {
   "cell_type": "code",
   "execution_count": 15,
   "metadata": {},
   "outputs": [],
   "source": [
    "# MySQL 임포트\n",
    "import pymysql\n",
    "\n",
    "# MySQL Connection 연결\n",
    "conn = pymysql.connect(\n",
    "    host='localhost',\n",
    "    user='root',\n",
    "    password='1234',\n",
    "    db='pydb',\n",
    "    charset='utf8'\n",
    ")"
   ]
  },
  {
   "cell_type": "code",
   "execution_count": 20,
   "metadata": {},
   "outputs": [],
   "source": [
    "def select_all():\n",
    "    c = conn.cursor()\n",
    "    c.execute('SELECT * FROM book')\n",
    "    books = c.fetchall()\n",
    "    for book in books:\n",
    "        print(book)\n",
    "    c.close()"
   ]
  },
  {
   "cell_type": "code",
   "execution_count": null,
   "metadata": {},
   "outputs": [
    {
     "name": "stdout",
     "output_type": "stream",
     "text": [
      "(10, '바보', '한빛', 100, '루피')\n",
      "(11, '해삼', '두빛', 200, '조로')\n",
      "(12, '스파게티', '세빛', 300, '상디')\n",
      "(13, 'Python', '한빛', 500, '현민현민')\n",
      "(14, 'Python', '한빛', 500, '현민현민')\n"
     ]
    }
   ],
   "source": [
    "def insert_data(data):\n",
    "    c = conn.cursor()\n",
    "    c.execute(\"INSERT INTO book(title, pub, pages, author) VALUES(%s, %s, %s, %s);\", data)\n",
    "    conn.commit()\n",
    "    c.close()\n",
    "\n",
    "# insert_data(('Python', '한빛', 500, '현민현민'))\n",
    "select_all()"
   ]
  },
  {
   "cell_type": "code",
   "execution_count": null,
   "metadata": {},
   "outputs": [
    {
     "name": "stdout",
     "output_type": "stream",
     "text": [
      "(1, '자바', '한빛', 500, '김경식')\n",
      "(2, '파이썬', '길butt', 300, '이준목')\n",
      "(3, '데이터 분석 실무', '위키북스', 300, '김토리')\n",
      "(9, 'Python', '한빛', 500, '현민현민')\n",
      "(10, '바보', '한빛', 100, '루피')\n",
      "(11, '똥개', '한빛', 200, '조로')\n",
      "(12, '말미잘', '한빛', 300, '상디')\n"
     ]
    }
   ],
   "source": [
    "def insert_datas(datas):\n",
    "    c = conn.cursor()\n",
    "    c.executemany(\"INSERT INTO book(title, pub, pages, author) VALUES(%s, %s, %s, %s);\", datas)\n",
    "    conn.commit()\n",
    "    c.close()\n",
    "\n",
    "# insert_datas([\n",
    "#     ('바보', '한빛', 100, '루피'),\n",
    "#     ('똥개', '한빛', 200, '조로'),\n",
    "#     ('말미잘', '한빛', 300, '상디')\n",
    "# ])\n",
    "select_all()"
   ]
  },
  {
   "cell_type": "code",
   "execution_count": null,
   "metadata": {},
   "outputs": [
    {
     "name": "stdout",
     "output_type": "stream",
     "text": [
      "(1, '자바', '한빛', 500, '김경식')\n",
      "(2, '파이썬', '길butt', 300, '이준목')\n",
      "(3, '데이터 분석 실무', '위키북스', 300, '김토리')\n",
      "(9, 'Python', '한빛', 500, '현민현민')\n",
      "(10, '우하하', '똥개', 100, '루피')\n",
      "(11, '똥개', '한빛', 200, '조로')\n",
      "(12, '말미잘', '한빛', 300, '상디')\n"
     ]
    }
   ],
   "source": [
    "def update_data(data):\n",
    "    c = conn.cursor()\n",
    "    c.execute(\"UPDATE book SET title=%s, pub=%s, pages=%s, author=%s WHERE id=%s;\", data)\n",
    "    conn.commit()\n",
    "    c.close()\n",
    "\n",
    "# update_data(('우하하', '똥개', 100, '루피', 10))\n",
    "select_all()"
   ]
  },
  {
   "cell_type": "code",
   "execution_count": 28,
   "metadata": {},
   "outputs": [
    {
     "name": "stdout",
     "output_type": "stream",
     "text": [
      "(1, '자바', '한빛', 500, '김경식')\n",
      "(2, '파이썬', '길butt', 300, '이준목')\n",
      "(3, '데이터 분석 실무', '위키북스', 300, '김토리')\n",
      "(9, 'Python', '한빛', 500, '현민현민')\n",
      "(10, '바보', '한빛', 100, '루피')\n",
      "(11, '해삼', '두빛', 200, '조로')\n",
      "(12, '스파게티', '세빛', 300, '상디')\n"
     ]
    }
   ],
   "source": [
    "def update_datas(datas):\n",
    "    c = conn.cursor()\n",
    "    c.executemany(\"UPDATE book SET title=%s, pub=%s, pages=%s, author=%s WHERE id=%s;\", datas)\n",
    "    conn.commit()\n",
    "    c.close()\n",
    "\n",
    "# update_datas([\n",
    "#     ('바보', '한빛', 100, '루피', 10),\n",
    "#     ('해삼', '두빛', 200, '조로', 11),\n",
    "#     ('스파게티', '세빛', 300, '상디', 12)\n",
    "# ])\n",
    "select_all()"
   ]
  },
  {
   "cell_type": "code",
   "execution_count": 34,
   "metadata": {},
   "outputs": [
    {
     "name": "stdout",
     "output_type": "stream",
     "text": [
      "(10, '바보', '한빛', 100, '루피')\n",
      "(11, '해삼', '두빛', 200, '조로')\n",
      "(12, '스파게티', '세빛', 300, '상디')\n",
      "(13, 'Python', '한빛', 500, '현민현민')\n",
      "(14, 'Python', '한빛', 500, '현민현민')\n"
     ]
    }
   ],
   "source": [
    "def delete_data(data):\n",
    "    c = conn.cursor()\n",
    "    c.execute(\"DELETE FROM book WHERE id=%s;\", data)\n",
    "    conn.commit()\n",
    "    c.close()\n",
    "\n",
    "# delete_data((9,))\n",
    "select_all()"
   ]
  },
  {
   "cell_type": "code",
   "execution_count": 36,
   "metadata": {},
   "outputs": [
    {
     "name": "stdout",
     "output_type": "stream",
     "text": [
      "(10, '바보', '한빛', 100, '루피')\n",
      "(11, '해삼', '두빛', 200, '조로')\n",
      "(12, '스파게티', '세빛', 300, '상디')\n"
     ]
    }
   ],
   "source": [
    "def delete_datas(datas):\n",
    "    c = conn.cursor()\n",
    "    c.executemany(\"DELETE FROM book WHERE id=%s;\", datas)\n",
    "    conn.commit()\n",
    "    c.close()\n",
    "\n",
    "# delete_datas([(13), (14)])\n",
    "select_all()"
   ]
  }
 ],
 "metadata": {
  "kernelspec": {
   "display_name": "base",
   "language": "python",
   "name": "python3"
  },
  "language_info": {
   "codemirror_mode": {
    "name": "ipython",
    "version": 3
   },
   "file_extension": ".py",
   "mimetype": "text/x-python",
   "name": "python",
   "nbconvert_exporter": "python",
   "pygments_lexer": "ipython3",
   "version": "3.12.7"
  }
 },
 "nbformat": 4,
 "nbformat_minor": 2
}
