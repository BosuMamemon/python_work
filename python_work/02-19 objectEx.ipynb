{
 "cells": [
  {
   "cell_type": "markdown",
   "metadata": {},
   "source": [
    "# 클래스와 객체"
   ]
  },
  {
   "cell_type": "code",
   "execution_count": 123,
   "metadata": {},
   "outputs": [],
   "source": [
    "# 클래스 만들기\n",
    "# 클래스 이름은 자바와 같이 첫글자 대문자 CamelToe로...\n",
    "class FourCal:\n",
    "    def __init__(self): # 자바로 따지면 기본 생성자\n",
    "        super().__init__()\n",
    "    \n",
    "    def __init__(self, num1, num2): # 생성자의 메소드명은 __init__를 사용해야 한다\n",
    "        self.num1 = num1    # 파이썬에서 self는 자바의 this랑 동일함\n",
    "        self.num2 = num2    # 함수에서 self.변수명으로 값을 지정하면 바로 변수가 필드로 지정됨\n",
    "\n",
    "    def __str__(self):  # 자바의 toString() 메소드랑 똑같음... 객체를 문자열로 변환해서 출력하는 것\n",
    "        return f'{self.num1}과 {self.num2}는 멤버 변수입니다.'\n",
    "\n",
    "    def setData(self, num1, num2):  # 생성자는 아니지만 필드를 지정시켜주도록 만든 인스턴스 메소드\n",
    "        self.num1 = num1\n",
    "        self.num2 = num2\n",
    "\n",
    "    def add(self):  # 클래스 내부에서 함수를 만들 땐 매개변수로 반드시 self를 지정해줘야 됨\n",
    "        result = self.num1 + self.num2  \n",
    "        return result\n",
    "    \n",
    "    def sub(self):\n",
    "        result = self.num1 - self.num2\n",
    "        return result\n",
    "    \n",
    "    def mul(self):\n",
    "        result = self.num1 * self.num2\n",
    "        return result\n",
    "    \n",
    "    def div(self):\n",
    "        result = self.num1 / self.num2\n",
    "        return result\n"
   ]
  },
  {
   "cell_type": "code",
   "execution_count": 124,
   "metadata": {},
   "outputs": [
    {
     "name": "stdout",
     "output_type": "stream",
     "text": [
      "9\n",
      "3\n",
      "18\n",
      "2.0\n",
      "6과 3는 멤버 변수입니다.\n"
     ]
    }
   ],
   "source": [
    "a = FourCal(6, 3)   # 오브젝트 생성... 생성자를 사용했기 때문에 인수를 입력함으로써 필드를 지정할 수 있음\n",
    "# a.setData(6, 3) <- 생성자를 사용하지 않더라도 이런 식으로 내부 메소드로 필드를 나중에 지정하는 것도 가능하긴 함\n",
    "print(a.add())\n",
    "print(a.sub())\n",
    "print(a.mul())\n",
    "print(a.div())\n",
    "print(a)    # __str__() 메소드 덕분에 자동으로 미리 지정한 문자열로 변환되었음"
   ]
  },
  {
   "cell_type": "code",
   "execution_count": 125,
   "metadata": {},
   "outputs": [
    {
     "name": "stdout",
     "output_type": "stream",
     "text": [
      "선수의 등번호를 변경: from 99 to 123\n",
      "\n",
      "My name is 이준목.\n",
      "I play in 감독 in center.\n",
      "My back number is 123.\n",
      "\n"
     ]
    }
   ],
   "source": [
    "# 예제 1(ppt 실습1)\n",
    "class SoccerPlayer:\n",
    "    def __init__(self):\n",
    "        super().__init__()\n",
    "\n",
    "    def __init__(self, name, position, backNumber):\n",
    "        super().__init__()\n",
    "        self.name = name\n",
    "        self.position = position\n",
    "        self.backNumber = backNumber\n",
    "\n",
    "    def changeBackNumber(self, newNumber):\n",
    "        print(f'선수의 등번호를 변경: from {self.backNumber} to {newNumber}')\n",
    "        self.backNumber = newNumber\n",
    "\n",
    "    def __str__(self):\n",
    "        return f\"\"\"\n",
    "My name is {self.name}.\n",
    "I play in {self.position} in center.\n",
    "My back number is {self.backNumber}.\n",
    "\"\"\"\n",
    "    \n",
    "sp = SoccerPlayer('이준목', '감독', 99)\n",
    "sp.changeBackNumber(123)\n",
    "print(sp)"
   ]
  },
  {
   "cell_type": "code",
   "execution_count": 126,
   "metadata": {},
   "outputs": [],
   "source": [
    "class Student:\n",
    "    def __init__(self):\n",
    "        super().__init__()\n",
    "\n",
    "    def __init__(self, sno, name, gender, major):\n",
    "        super().__init__()\n",
    "        self.sno = sno\n",
    "        self.name = name\n",
    "        self.gender = gender\n",
    "        self.major = major\n",
    "\n",
    "    def setMajor(self, major):\n",
    "        self.major = major\n",
    "        \n",
    "    def __str__(self):\n",
    "        return f'학번: {self.sno} / 이름: {self.name} / 성별: {self.gender} / 전공: {self.major}'\n"
   ]
  },
  {
   "cell_type": "code",
   "execution_count": 127,
   "metadata": {},
   "outputs": [
    {
     "name": "stdout",
     "output_type": "stream",
     "text": [
      "학번: 1 / 이름: 김수현 / 성별: 남자 / 전공: 컴공\n",
      "학번: 1 / 이름: 김수현 / 성별: 남자 / 전공: 정보통신\n"
     ]
    }
   ],
   "source": [
    "kim = Student(1, '김수현', '남자', '컴공')\n",
    "print(kim)\n",
    "kim.setMajor('정보통신')\n",
    "print(kim)"
   ]
  },
  {
   "cell_type": "code",
   "execution_count": 128,
   "metadata": {},
   "outputs": [],
   "source": [
    "# 상속\n",
    "class MoreFourCal(FourCal): # 소괄호 안에 클래스명을 적으면 상속이 됨\n",
    "    def pow(self):\n",
    "        return self.num1 ** self.num2   # **는 num1의 num2승이라는 뜻임\n",
    "    \n",
    "    def div(self):  # 메소드 오버라이딩\n",
    "        if self.num2 ==0:\n",
    "            return 0\n",
    "        else:\n",
    "            return self.num1 / self.num2"
   ]
  },
  {
   "cell_type": "code",
   "execution_count": 129,
   "metadata": {},
   "outputs": [
    {
     "name": "stdout",
     "output_type": "stream",
     "text": [
      "4과 0는 멤버 변수입니다.\n",
      "4\n",
      "4\n",
      "1\n",
      "0\n"
     ]
    }
   ],
   "source": [
    "b =  MoreFourCal(4, 0)\n",
    "print(b)\n",
    "print(b.add())\n",
    "print(b.sub())\n",
    "print(b.pow())\n",
    "print(b.div())"
   ]
  },
  {
   "cell_type": "code",
   "execution_count": 130,
   "metadata": {},
   "outputs": [],
   "source": [
    "class Person:\n",
    "    def __init__(self):\n",
    "        super().__init__()\n",
    "\n",
    "    def __init__(self, name, age, gender):\n",
    "        super().__init__()\n",
    "        self.__name = name  # 필드 앞에 __를 붙이면 자바로 치면 private 변수로 선언한 것임(가시성(visibility))\n",
    "        self.age = age\n",
    "        self.gender = gender\n",
    "\n",
    "    def display(self):\n",
    "        print(self.__name, self.age, self.gender, end = \" \")\n",
    "    \n",
    "class Employee(Person):\n",
    "    def __init__(self):\n",
    "        super().__init__()\n",
    "\n",
    "    def __init__(self, eno, name, age, gender, dept, sal):\n",
    "        super().__init__(name, age, gender)\n",
    "        self.eno = eno\n",
    "        self.dept = dept\n",
    "        self.sal = sal\n",
    "    \n",
    "    def display(self):\n",
    "        print(self.eno, end = ' ')\n",
    "        super().display()\n",
    "        print(self.dept, self.sal)\n",
    "\n",
    "class Student(Person):\n",
    "    sname = 'a' # 클래스 변수\n",
    "\n",
    "    def __init__(self):\n",
    "        super().__init__()\n",
    "\n",
    "    def __init__(self, sno, name, age, gender, major):\n",
    "        super().__init__(name, age, gender)\n",
    "        self.sno = sno\n",
    "        self.major = major\n",
    "\n",
    "    def display(self):\n",
    "        print(self.sname, self.sno, end = ' ')\n",
    "        super().display()\n",
    "        print(self.major)"
   ]
  },
  {
   "cell_type": "code",
   "execution_count": 131,
   "metadata": {},
   "outputs": [
    {
     "name": "stdout",
     "output_type": "stream",
     "text": [
      "1 홍길동 35 남자 영업부 500\n",
      "a 1 성춘향 35 여자 컴공\n"
     ]
    }
   ],
   "source": [
    "e1 = Employee(1, '홍길동', 35, '남자', '영업부', 500)\n",
    "e1.display()\n",
    "# print(e1.__name)\n",
    "\n",
    "s1 = Student(1, '성춘향', 35, '여자', '컴공')\n",
    "s1.display()"
   ]
  },
  {
   "cell_type": "code",
   "execution_count": 132,
   "metadata": {},
   "outputs": [
    {
     "name": "stdout",
     "output_type": "stream",
     "text": [
      "a 2 정현민 30 남자 철학과\n",
      "a 2 정현민 30 남자 철학과\n",
      "ClassMember 1 성춘향 35 여자 컴공\n",
      "ClassMember 2 정현민 30 남자 철학과\n"
     ]
    }
   ],
   "source": [
    "s2 = Student(2, '정현민', 30, '남자', '철학과')\n",
    "s2.display()\n",
    "s2.name = '이준목'\n",
    "s2.display()\n",
    "\n",
    "Student.sname = 'ClassMember'\n",
    "s1.display()\n",
    "s2.display()"
   ]
  }
 ],
 "metadata": {
  "kernelspec": {
   "display_name": "base",
   "language": "python",
   "name": "python3"
  },
  "language_info": {
   "codemirror_mode": {
    "name": "ipython",
    "version": 3
   },
   "file_extension": ".py",
   "mimetype": "text/x-python",
   "name": "python",
   "nbconvert_exporter": "python",
   "pygments_lexer": "ipython3",
   "version": "3.12.7"
  }
 },
 "nbformat": 4,
 "nbformat_minor": 2
}
