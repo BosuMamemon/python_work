{
 "cells": [
  {
   "cell_type": "markdown",
   "metadata": {},
   "source": [
    "# 라이브러리"
   ]
  },
  {
   "cell_type": "code",
   "execution_count": 1,
   "metadata": {},
   "outputs": [
    {
     "name": "stdout",
     "output_type": "stream",
     "text": [
      "2025-02-24\n"
     ]
    },
    {
     "data": {
      "text/plain": [
       "datetime.date(2025, 2, 24)"
      ]
     },
     "execution_count": 1,
     "metadata": {},
     "output_type": "execute_result"
    }
   ],
   "source": [
    "# datetime.date\n",
    "\n",
    "import datetime\n",
    "day1 = datetime.date(2025,2,24)\n",
    "print(day1)     #데이트 타입은 출력시 출력형이 바뀜\n",
    "day1            #출력형이랑 다름을 확인가능\n"
   ]
  },
  {
   "cell_type": "code",
   "execution_count": 2,
   "metadata": {},
   "outputs": [
    {
     "name": "stdout",
     "output_type": "stream",
     "text": [
      "2025-05-24\n",
      "2024-02-24 13:30:45\n"
     ]
    }
   ],
   "source": [
    "import datetime\n",
    "day1 = datetime.date(2025,5,24)                     #날짜까지 출력\n",
    "day2 = datetime.datetime(2024,2,24,13,30,45)        #시간까지 출력\n",
    "print(day1)\n",
    "print(day2)\n"
   ]
  },
  {
   "cell_type": "code",
   "execution_count": 3,
   "metadata": {},
   "outputs": [
    {
     "name": "stdout",
     "output_type": "stream",
     "text": [
      "-455 days, 0:00:00\n",
      "-455\n",
      "5\n",
      "6\n"
     ]
    }
   ],
   "source": [
    "import datetime\n",
    "day1 = datetime.date(2025,5,24)                     #날짜까지 출력\n",
    "day2 = datetime.date(2024,2,24)        #시간까지 출력\n",
    "print(day2-day1)\n",
    "diff=day2-day1\n",
    "print(diff.days)\n",
    "print(day2.weekday())  #요일출력(월:0 ~ 일:6)\n",
    "print(day2.isoweekday()) #요일출력(월:1 ~ 일:7)"
   ]
  },
  {
   "cell_type": "code",
   "execution_count": 4,
   "metadata": {},
   "outputs": [
    {
     "data": {
      "text/plain": [
       "1740379034.2076168"
      ]
     },
     "execution_count": 4,
     "metadata": {},
     "output_type": "execute_result"
    }
   ],
   "source": [
    "import time\n",
    "time.time()    #1970.01.01 기준 흐른 초 계산\n"
   ]
  },
  {
   "cell_type": "code",
   "execution_count": 5,
   "metadata": {},
   "outputs": [
    {
     "data": {
      "text/plain": [
       "'Mon Feb 24 15:37:14 2025'"
      ]
     },
     "execution_count": 5,
     "metadata": {},
     "output_type": "execute_result"
    }
   ],
   "source": [
    "# time.time()으로 받아온 시간값을\n",
    "# time.localtime()이 튜플 형태로 연월일시분초로 나누고\n",
    "# time.asctime()이 그걸 보기좋은 형태로 만들어줌\n",
    "time.asctime(time.localtime(time.time()))\n",
    "\n",
    "# time.ctime() = 항상 현재 시간만을 리턴\n",
    "time.ctime()"
   ]
  },
  {
   "cell_type": "code",
   "execution_count": null,
   "metadata": {},
   "outputs": [
    {
     "name": "stdout",
     "output_type": "stream",
     "text": [
      "0\n",
      "1\n",
      "2\n",
      "3\n",
      "4\n",
      "5\n",
      "6\n",
      "7\n",
      "8\n"
     ]
    }
   ],
   "source": [
    "# time.sleep(): 일정한 시간간격을 둘수 있음\n",
    "# 1초 간격으로 0부터 9까지 출력\n",
    "\n",
    "for i in range(10):\n",
    "    print(i)\n",
    "    time.sleep(1)"
   ]
  },
  {
   "cell_type": "code",
   "execution_count": null,
   "metadata": {},
   "outputs": [
    {
     "name": "stdout",
     "output_type": "stream",
     "text": [
      "20\n",
      "75\n"
     ]
    }
   ],
   "source": [
    "import math\n",
    "\n",
    "print(math.gcd(60, 100, 80))   # 최대공약수 구하기(Great Common Divisor)\n",
    "print(math.lcm(15, 25)) # 최소공배수 구하기(Least Common Multiple)"
   ]
  },
  {
   "cell_type": "code",
   "execution_count": null,
   "metadata": {},
   "outputs": [
    {
     "name": "stdout",
     "output_type": "stream",
     "text": [
      "[63, 71, 95, 99, 57, 9, 69, 49, 23, 31]\n"
     ]
    }
   ],
   "source": [
    "import random\n",
    "\n",
    "random.random() # 0.0 ~ 1.0 사이의 실수 중 난수값을 리턴\n",
    "\n",
    "aa = list(range(1, 100, 2))\n",
    "a = random.sample(aa, 10)   # aa 리스트에서 10를 랜덤으로 샘플링하는 함수\n",
    "print(a)"
   ]
  },
  {
   "cell_type": "code",
   "execution_count": null,
   "metadata": {},
   "outputs": [
    {
     "name": "stdout",
     "output_type": "stream",
     "text": [
      "7\n",
      "8\n"
     ]
    }
   ],
   "source": [
    "print(int((random.random() * 10) + 1)) # 1 ~ 10 사이 실수를 랜덤하게 발생시키는 코드\n",
    "\n",
    "# random.randint() = 저거를 함수로 그냥 때려넣은 거\n",
    "print(random.randint(1, 10))"
   ]
  },
  {
   "cell_type": "code",
   "execution_count": null,
   "metadata": {},
   "outputs": [
    {
     "data": {
      "text/plain": [
       "[5, 4, 2, 3, 1]"
      ]
     },
     "execution_count": 117,
     "metadata": {},
     "output_type": "execute_result"
    }
   ],
   "source": [
    "data = [1, 2, 3, 4, 5]\n",
    "random.sample(data, len(data))  # data 리스트에서 len(data) 만큼을 랜덤으로 샘플링 = 그냥 순서섞기"
   ]
  },
  {
   "cell_type": "code",
   "execution_count": null,
   "metadata": {},
   "outputs": [
    {
     "name": "stdout",
     "output_type": "stream",
     "text": [
      "[('정현민', '초콜릿'), ('이준목', '따봉감귤'), ('조유빈', '유부초밥'), ('신진영', '유부초밥')]\n"
     ]
    }
   ],
   "source": [
    "import itertools\n",
    "\n",
    "students = ['정현민', '이준목', '조유빈', '신진영']\n",
    "snacks = ['초콜릿', '따봉감귤']\n",
    "\n",
    "# 두 리스트를 합치는데 길이가 서로 다르면 긴쪽에 맞춰서 짧은 쪽에는 fillvalue를 부여함\n",
    "result = itertools.zip_longest(students, snacks, fillvalue='유부초밥')\n",
    "print(list(result))"
   ]
  },
  {
   "cell_type": "code",
   "execution_count": null,
   "metadata": {},
   "outputs": [
    {
     "name": "stdout",
     "output_type": "stream",
     "text": [
      "20\n",
      "[(1, 2), (1, 3), (1, 4), (1, 5), (2, 1), (2, 3), (2, 4), (2, 5), (3, 1), (3, 2), (3, 4), (3, 5), (4, 1), (4, 2), (4, 3), (4, 5), (5, 1), (5, 2), (5, 3), (5, 4)]\n"
     ]
    }
   ],
   "source": [
    "a = [1, 2, 3, 4, 5]\n",
    "b = list(itertools.permutations(a, 2))  # a라는 리스트에서 서로 다른 값 2개를 선출하는 모든 경우의 수를 리턴함\n",
    "print(len(b))\n",
    "print(b)"
   ]
  },
  {
   "cell_type": "code",
   "execution_count": 1,
   "metadata": {},
   "outputs": [
    {
     "ename": "NameError",
     "evalue": "name 'itertools' is not defined",
     "output_type": "error",
     "traceback": [
      "\u001b[1;31m---------------------------------------------------------------------------\u001b[0m",
      "\u001b[1;31mNameError\u001b[0m                                 Traceback (most recent call last)",
      "Cell \u001b[1;32mIn[1], line 1\u001b[0m\n\u001b[1;32m----> 1\u001b[0m a \u001b[38;5;241m=\u001b[39m \u001b[38;5;28mlist\u001b[39m(itertools\u001b[38;5;241m.\u001b[39mcombinations(\u001b[38;5;28mrange\u001b[39m(\u001b[38;5;241m1\u001b[39m, \u001b[38;5;241m46\u001b[39m), \u001b[38;5;241m6\u001b[39m))\n\u001b[0;32m      2\u001b[0m \u001b[38;5;28mlen\u001b[39m(a)\n",
      "\u001b[1;31mNameError\u001b[0m: name 'itertools' is not defined"
     ]
    }
   ],
   "source": [
    "a = list(itertools.combinations(range(1, 46), 6))\n",
    "len(a)  # a = 1부터 46까지의 숫자 중 6개를 뽑는 경우의 수, len(a) = 그 갯수"
   ]
  },
  {
   "cell_type": "code",
   "execution_count": null,
   "metadata": {},
   "outputs": [
    {
     "name": "stdout",
     "output_type": "stream",
     "text": [
      "[('dave', 32, 'B'), ('jane', 22, 'A'), ('sally', 17, 'B')]\n"
     ]
    }
   ],
   "source": [
    "students1 = [('jane', 22, 'A'), ('dave', 32, 'B'), ('sally', 17, 'B')]\n",
    "\n",
    "from operator import itemgetter\n",
    "result1 = sorted(students1, key=itemgetter(0))  # itemgetter를 사용하면 튜플의 몇번째 인덱스를 키로 사용하여 sorted할건지 정할 수 있음\n",
    "print(result1)"
   ]
  },
  {
   "cell_type": "code",
   "execution_count": 11,
   "metadata": {},
   "outputs": [
    {
     "name": "stdout",
     "output_type": "stream",
     "text": [
      "[{'name': 'sally', 'age': '17', 'grade': 'B'}, {'name': 'jane', 'age': '22', 'grade': 'A'}, {'name': 'dave', 'age': '32', 'grade': 'B'}]\n"
     ]
    }
   ],
   "source": [
    "students2 = [\n",
    "    {'name': 'jane', 'age': '22', 'grade': 'A'},\n",
    "    {'name': 'dave', 'age': '32', 'grade': 'B'},\n",
    "    {'name': 'sally', 'age': '17', 'grade': 'B'}\n",
    "]\n",
    "result2 = sorted(students2, key=itemgetter('age'))\n",
    "print(result2)  # 딕셔너리 같은 경우엔 itemgetter로 키값을 아예 들고올 수 있음"
   ]
  },
  {
   "cell_type": "code",
   "execution_count": 13,
   "metadata": {},
   "outputs": [
    {
     "data": {
      "text/plain": [
       "['data\\\\test.txt', 'data\\\\test02.txt', 'data\\\\test03.txt']"
      ]
     },
     "execution_count": 13,
     "metadata": {},
     "output_type": "execute_result"
    }
   ],
   "source": [
    "import glob\n",
    "\n",
    "glob.glob('data/test*') # 전역에서 data 디렉토리 안에 test라는 이름을 포함한 모든 파일을 찾아서 리스트로 반환함"
   ]
  },
  {
   "cell_type": "code",
   "execution_count": 20,
   "metadata": {},
   "outputs": [
    {
     "name": "stdout",
     "output_type": "stream",
     "text": [
      "('jane', 22, 'A')\n",
      "('dave', 32, 'B')\n",
      "('sally', 17, 'B')\n",
      "\n",
      "('jane', 22, 'A')\n"
     ]
    }
   ],
   "source": [
    "import pickle\n",
    "\n",
    "# pickle: 객체의 형태를 그대로 유지하면서 파일에 저장하고 불러올 수 있게 하는 모듈\n",
    "\n",
    "f = open('data/test03.txt', 'wb')\n",
    "for data in students:\n",
    "    print(data)\n",
    "    pickle.dump(data, f)\n",
    "f.close()\n",
    "\n",
    "print()\n",
    "\n",
    "f = open('data/test03.txt', 'rb')\n",
    "data = pickle.load(f)\n",
    "print(data)"
   ]
  },
  {
   "cell_type": "code",
   "execution_count": 30,
   "metadata": {},
   "outputs": [],
   "source": [
    "import zipfile\n",
    "\n",
    "# 파일 합치기\n",
    "with zipfile.ZipFile('data/mytext.zip', 'w') as myzip:\n",
    "    myzip.write('data/test.txt')\n",
    "    myzip.write('data/test02.txt')\n",
    "    myzip.write('data/test03.txt')\n",
    "\n",
    "# zip 해제하기\n",
    "with zipfile.ZipFile('data/mytext.zip') as myzip:\n",
    "    myzip.extractall('data/aa')"
   ]
  },
  {
   "cell_type": "code",
   "execution_count": 33,
   "metadata": {},
   "outputs": [
    {
     "name": "stdout",
     "output_type": "stream",
     "text": [
      "{'name': '홍길동', 'birth': '0525', 'age': 25}\n"
     ]
    }
   ],
   "source": [
    "import json\n",
    "\n",
    "with open('data/myinfo.json') as f:\n",
    "    data = json.load(f) # json 파일을 불러온 객체 f를 json 모듈의 load라는 함수로 내용을 불러와서 data라는 객체에 담은 겅미\n",
    "    print(data)\n",
    "\n",
    "data = {'name': 'kim', 'age': 20, 'birth': '0522'}\n",
    "with open('data/myinfo2.json', 'w') as f:\n",
    "    json.dump(data, f)  # data에 들어있는 정보를 myinfo2.json 파일의 객체 f에 dump시킨 거임"
   ]
  },
  {
   "cell_type": "code",
   "execution_count": null,
   "metadata": {},
   "outputs": [
    {
     "name": "stdout",
     "output_type": "stream",
     "text": [
      "[[\"jane\", 22, \"A\"], [\"dave\", 32, \"B\"], [\"sally\", 17, \"B\"]]\n"
     ]
    }
   ],
   "source": [
    "# dump랑 dumps의 차이\n",
    "\n",
    "with open('data/students.json', 'w') as f:\n",
    "    json.dump(students, f)  # 파일로 따로 저장하려면 dump임\n",
    "\n",
    "json_data = json.dumps(students)    # 파이썬에서 데이터로 저장하려면 dumps임\n",
    "print(json_data)\n",
    "\n",
    "# load랑 loads도 같은 관계임"
   ]
  }
 ],
 "metadata": {
  "kernelspec": {
   "display_name": "base",
   "language": "python",
   "name": "python3"
  },
  "language_info": {
   "codemirror_mode": {
    "name": "ipython",
    "version": 3
   },
   "file_extension": ".py",
   "mimetype": "text/x-python",
   "name": "python",
   "nbconvert_exporter": "python",
   "pygments_lexer": "ipython3",
   "version": "3.12.7"
  }
 },
 "nbformat": 4,
 "nbformat_minor": 2
}
