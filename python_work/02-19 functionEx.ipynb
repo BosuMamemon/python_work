{
 "cells": [
  {
   "cell_type": "markdown",
   "metadata": {},
   "source": [
    "# 함수"
   ]
  },
  {
   "cell_type": "code",
   "execution_count": 2,
   "metadata": {},
   "outputs": [
    {
     "name": "stdout",
     "output_type": "stream",
     "text": [
      "7\n"
     ]
    }
   ],
   "source": [
    "# 매개변수가 있는 함수 만들기\n",
    "def add(a, b):\n",
    "    return a + b\n",
    "\n",
    "result = add(3, 4)\n",
    "print(result)"
   ]
  },
  {
   "cell_type": "code",
   "execution_count": 4,
   "metadata": {},
   "outputs": [
    {
     "name": "stdout",
     "output_type": "stream",
     "text": [
      "hi\n"
     ]
    }
   ],
   "source": [
    "# 매개변수 없는 함수 만들기\n",
    "def say():\n",
    "    return 'hi'\n",
    "\n",
    "print(say())"
   ]
  },
  {
   "cell_type": "code",
   "execution_count": 6,
   "metadata": {},
   "outputs": [
    {
     "name": "stdout",
     "output_type": "stream",
     "text": [
      "3 4\n"
     ]
    }
   ],
   "source": [
    "# result 없는 함수 만들기\n",
    "def display(a, b):\n",
    "    print(a, b)\n",
    "\n",
    "display(3, 4)"
   ]
  },
  {
   "cell_type": "code",
   "execution_count": 14,
   "metadata": {},
   "outputs": [
    {
     "name": "stdout",
     "output_type": "stream",
     "text": [
      "1\n",
      "3\n",
      "6\n",
      "10\n",
      "15\n"
     ]
    }
   ],
   "source": [
    "# 기본값 넣어서 함수 만들기\n",
    "def sum(*a):    # 이렇게 만들면 모든 인수를 튜플로 만들어서 받음\n",
    "    sum = 0\n",
    "    for i in a:\n",
    "        sum += i\n",
    "    return sum\n",
    "\n",
    "print(sum(1))\n",
    "print(sum(1, 2))\n",
    "print(sum(1, 2, 3))\n",
    "print(sum(1, 2, 3, 4))\n",
    "print(sum(1, 2, 3, 4, 5))"
   ]
  },
  {
   "cell_type": "code",
   "execution_count": 19,
   "metadata": {},
   "outputs": [
    {
     "name": "stdout",
     "output_type": "stream",
     "text": [
      "1\n",
      "('a',)\n",
      "a\n",
      "\n",
      "1\n",
      "(2, 'c')\n",
      "2 c\n",
      "\n",
      "1\n",
      "(2, 'c', [4, 3])\n",
      "2 c [4, 3]\n"
     ]
    }
   ],
   "source": [
    "# 인수받을 때 아스테리크 쓰기(다중인수)\n",
    "\n",
    "def func1(a, *b):\n",
    "    print(a)\n",
    "    print(b)\n",
    "    print(*b)\n",
    "\n",
    "\n",
    "func1(1, 'a')\n",
    "print()\n",
    "func1(1, 2, 'c')\n",
    "print()\n",
    "func1(1, 2, 'c', [4, 3])"
   ]
  },
  {
   "cell_type": "code",
   "execution_count": 22,
   "metadata": {},
   "outputs": [
    {
     "name": "stdout",
     "output_type": "stream",
     "text": [
      "20 홍길동\n"
     ]
    }
   ],
   "source": [
    "def func2(age, name):\n",
    "    print(age, name)\n",
    "\n",
    "func2(name = '홍길동', age = 20)    # 키워드를 사용해서 호출하면 매개변수의 순서랑 상관없이 인수를 정확하게 보낼 수 있음~~"
   ]
  },
  {
   "cell_type": "code",
   "execution_count": 27,
   "metadata": {},
   "outputs": [
    {
     "name": "stdout",
     "output_type": "stream",
     "text": [
      "홍길동\n",
      "20\n",
      "{'name': '홍길동', 'age': 20}\n"
     ]
    }
   ],
   "source": [
    "# kwargs = key words arguments / 키워드 인수\n",
    "# 키워드랑 밸류를 받아서 딕셔너리 형태로 데이터를 반환함\n",
    "\n",
    "def func3(**args):  # **kwargs라고 매개변수를 넣어줘도 상관없음\n",
    "    print(args['name'])\n",
    "    print(args['age'])\n",
    "    print(args)\n",
    "\n",
    "func3(name = '홍길동', age = 20)\n"
   ]
  },
  {
   "cell_type": "code",
   "execution_count": 33,
   "metadata": {},
   "outputs": [
    {
     "name": "stdout",
     "output_type": "stream",
     "text": [
      "(7, -1, 12, 0.75)\n"
     ]
    }
   ],
   "source": [
    "# 파이썬에서는 두 개 이상의 값을 튜플에 넣어서 동시에 return할 수 있음\n",
    "\n",
    "def arismethic(a, b):\n",
    "    return a + b, a - b, a * b, a / b\n",
    "\n",
    "result = arismethic(3, 4)\n",
    "print(result)"
   ]
  },
  {
   "cell_type": "code",
   "execution_count": 37,
   "metadata": {},
   "outputs": [
    {
     "name": "stdout",
     "output_type": "stream",
     "text": [
      "홍길동\n",
      "20\n",
      "남자\n",
      "\n",
      "홍길동\n",
      "20\n",
      "여자\n"
     ]
    }
   ],
   "source": [
    "# 매개변수 기본값\n",
    "# 주의점!!: 기본값을 설정할 매개변수는 무조건 맨 마지막에 작성해야함\n",
    "# 아래 함수로 예를 들면 (name, man = True, age) 이렇게로는 작성이 안된다는 말임!!!\n",
    "\n",
    "def say_myself(name, age, man = True):\n",
    "    print(name)\n",
    "    print(age)\n",
    "    if man:\n",
    "        print('남자')\n",
    "    else:\n",
    "        print('여자')\n",
    "\n",
    "say_myself(\"홍길동\", 20)\n",
    "print()\n",
    "say_myself(\"홍길동\", 20, False)"
   ]
  },
  {
   "cell_type": "code",
   "execution_count": 41,
   "metadata": {},
   "outputs": [
    {
     "name": "stdout",
     "output_type": "stream",
     "text": [
      "20\n",
      "10\n"
     ]
    }
   ],
   "source": [
    "# 매개변수는 지역변수입니다!!!!!!!!!!!!\n",
    "\n",
    "a = 10\n",
    "def func():\n",
    "    a = 20\n",
    "    print(a)\n",
    "func()\n",
    "print(a)"
   ]
  },
  {
   "cell_type": "code",
   "execution_count": null,
   "metadata": {},
   "outputs": [
    {
     "name": "stdout",
     "output_type": "stream",
     "text": [
      "20\n",
      "20\n"
     ]
    }
   ],
   "source": [
    "# 단 함수 안에 gloval a라고 선언하면 a는 지역변수가 아니라 밖에서 미리 선언한 a가 됩니당\n",
    "\n",
    "a = 10\n",
    "def func():\n",
    "    global a\n",
    "    a = 20\n",
    "    print(a)\n",
    "func()\n",
    "print(a)"
   ]
  },
  {
   "cell_type": "code",
   "execution_count": null,
   "metadata": {},
   "outputs": [
    {
     "name": "stdout",
     "output_type": "stream",
     "text": [
      "20\n",
      "10\n"
     ]
    }
   ],
   "source": [
    "# 지역변수(2)\n",
    "def func(a):\n",
    "    a += 10\n",
    "    print(a)\n",
    "\n",
    "a = 10\n",
    "func(a) # 지역변수 a는 20이 되기는 한데\n",
    "print(a)    # 호출된 함수가 끝나면 a는 원래 값이었던 10 그대로임"
   ]
  },
  {
   "cell_type": "code",
   "execution_count": 51,
   "metadata": {},
   "outputs": [
    {
     "name": "stdout",
     "output_type": "stream",
     "text": [
      "[11, 12, 13, 14]\n",
      "[11, 12, 13, 14]\n"
     ]
    }
   ],
   "source": [
    "# 지역변수(3)\n",
    "def func(list1):\n",
    "    for i in range(len(list1)):\n",
    "        list1[i] += 10\n",
    "    print(list1)\n",
    "\n",
    "a = [1, 2, 3, 4]\n",
    "func(a) # 이때 받는 인수 a는 리스트 [1, 2, 3, 4]의 참조변수임\n",
    "print(a)    # 그래서 참조변수의 값인 리스트가 변경되면 함수가 종료되어도 리스트는 변경된 값으로 수정됨"
   ]
  },
  {
   "cell_type": "code",
   "execution_count": 54,
   "metadata": {},
   "outputs": [
    {
     "name": "stdout",
     "output_type": "stream",
     "text": [
      "Python add string\n",
      "Python\n"
     ]
    }
   ],
   "source": [
    "def func(str1):\n",
    "    str1 += \" add string\"\n",
    "    print(str1)\n",
    "\n",
    "a = \"Python\"\n",
    "func(a) # 신기하게도 자바에서 String은 객체 취급이라 참조변수를 사용했지만\n",
    "print(a)    # 파이썬에서는 String이 기본형처럼 취급됨"
   ]
  },
  {
   "cell_type": "markdown",
   "metadata": {},
   "source": [
    "# lambda 예약어\n",
    "<p>\n",
    "함수명 = lambda 매개변수: 수행문"
   ]
  },
  {
   "cell_type": "code",
   "execution_count": 57,
   "metadata": {},
   "outputs": [
    {
     "name": "stdout",
     "output_type": "stream",
     "text": [
      "7\n"
     ]
    }
   ],
   "source": [
    "# 람다 함수를 사용하지 않았을 때\n",
    "def add(a, b):\n",
    "    return a + b\n",
    "\n",
    "result = add(3, 4)\n",
    "print(result)"
   ]
  },
  {
   "cell_type": "code",
   "execution_count": 60,
   "metadata": {},
   "outputs": [
    {
     "name": "stdout",
     "output_type": "stream",
     "text": [
      "7\n"
     ]
    }
   ],
   "source": [
    "# lambda 예약어를 사용했을 때\n",
    "add = lambda a, b: a + b\n",
    "\n",
    "result = add(3, 4)\n",
    "print(result)"
   ]
  },
  {
   "cell_type": "code",
   "execution_count": 103,
   "metadata": {},
   "outputs": [],
   "source": [
    "# 파일을 통한 입출력\n",
    "\n",
    "f = open(\"../data/test.txt\", \"w\")  # 두번째 인수 \"w\"는 writing mode로 실행한다는 것을 의미함\n",
    "f.write(\"가나다\")\n",
    "f.close()"
   ]
  },
  {
   "cell_type": "code",
   "execution_count": null,
   "metadata": {},
   "outputs": [
    {
     "name": "stdout",
     "output_type": "stream",
     "text": [
      "가나다\n"
     ]
    }
   ],
   "source": [
    "fr = open(\"../data/test.txt\", \"r\")  # 데이터 읽기 모드\n",
    "line = fr.readline()    #.read()는 파일의 텍스트를 전부 다 읽어와서 readline으로 읽어줘야 함\n",
    "print(line)"
   ]
  },
  {
   "cell_type": "code",
   "execution_count": null,
   "metadata": {},
   "outputs": [],
   "source": [
    "# 반복문으로 파일 입출력\n",
    "\n",
    "f = open(\"../data/test02.txt\", \"w\")\n",
    "\n",
    "for i in range(1, 11):\n",
    "    data = \"%d번째 줄입니다.\\n\" %i\n",
    "    f.write(data)\n",
    "\n",
    "f.close()"
   ]
  },
  {
   "cell_type": "code",
   "execution_count": 9,
   "metadata": {},
   "outputs": [
    {
     "name": "stdout",
     "output_type": "stream",
     "text": [
      "1번째 줄입니다.\n",
      "\n",
      "2번째 줄입니다.\n",
      "\n",
      "3번째 줄입니다.\n",
      "\n",
      "4번째 줄입니다.\n",
      "\n",
      "5번째 줄입니다.\n",
      "\n",
      "6번째 줄입니다.\n",
      "\n",
      "7번째 줄입니다.\n",
      "\n",
      "8번째 줄입니다.\n",
      "\n",
      "9번째 줄입니다.\n",
      "\n",
      "10번째 줄입니다.\n",
      "\n"
     ]
    }
   ],
   "source": [
    "f = open('../data/test02.txt', 'r')\n",
    "while True:\n",
    "    line = f.readline()\n",
    "    if not line: break\n",
    "    print(line)\n",
    "f.close()"
   ]
  },
  {
   "cell_type": "code",
   "execution_count": 12,
   "metadata": {},
   "outputs": [
    {
     "name": "stdout",
     "output_type": "stream",
     "text": [
      "1번째 줄입니다.\n",
      "\n",
      "2번째 줄입니다.\n",
      "\n",
      "3번째 줄입니다.\n",
      "\n",
      "4번째 줄입니다.\n",
      "\n",
      "5번째 줄입니다.\n",
      "\n",
      "6번째 줄입니다.\n",
      "\n",
      "7번째 줄입니다.\n",
      "\n",
      "8번째 줄입니다.\n",
      "\n",
      "9번째 줄입니다.\n",
      "\n",
      "10번째 줄입니다.\n",
      "\n"
     ]
    }
   ],
   "source": [
    "# 위랑 똑같은 내용을 readlines로 작성하기\n",
    "\n",
    "f = open('../data/test02.txt', 'r')\n",
    "\n",
    "lines = f.readlines()\n",
    "for line in lines:\n",
    "    print(line)\n",
    "\n",
    "f.close()"
   ]
  },
  {
   "cell_type": "code",
   "execution_count": 14,
   "metadata": {},
   "outputs": [
    {
     "name": "stdout",
     "output_type": "stream",
     "text": [
      "1번째 줄입니다.\n",
      "2번째 줄입니다.\n",
      "3번째 줄입니다.\n",
      "4번째 줄입니다.\n",
      "5번째 줄입니다.\n",
      "6번째 줄입니다.\n",
      "7번째 줄입니다.\n",
      "8번째 줄입니다.\n",
      "9번째 줄입니다.\n",
      "10번째 줄입니다.\n",
      "\n"
     ]
    }
   ],
   "source": [
    "f = open(\"../data/test02.txt\", \"r\")\n",
    "data = f.read() # read()함수는 파일 전체의 내용을 문자열로 다 읽어옴\n",
    "print(data)\n",
    "f.close()"
   ]
  },
  {
   "cell_type": "code",
   "execution_count": 18,
   "metadata": {},
   "outputs": [
    {
     "name": "stdout",
     "output_type": "stream",
     "text": [
      "1번째 줄입니다.\n",
      "\n",
      "2번째 줄입니다.\n",
      "\n",
      "3번째 줄입니다.\n",
      "\n",
      "4번째 줄입니다.\n",
      "\n",
      "5번째 줄입니다.\n",
      "\n",
      "6번째 줄입니다.\n",
      "\n",
      "7번째 줄입니다.\n",
      "\n",
      "8번째 줄입니다.\n",
      "\n",
      "9번째 줄입니다.\n",
      "\n",
      "10번째 줄입니다.\n",
      "\n"
     ]
    }
   ],
   "source": [
    "f = open('../data/test02.txt', 'r')\n",
    "\n",
    "for line in f:  # 파일 객체는 한 줄 단위로 요소를 저장하기 때문에 이런 식으로 for문을 돌릴 수도 있음\n",
    "    print(line)\n",
    "\n",
    "f.close()"
   ]
  },
  {
   "cell_type": "code",
   "execution_count": 20,
   "metadata": {},
   "outputs": [
    {
     "name": "stdout",
     "output_type": "stream",
     "text": [
      "내 이름은 정현민.\n",
      "탐정이죠.\n"
     ]
    }
   ],
   "source": [
    "# with문을 써서 자동으로 파일 열고 닫기\n",
    "\n",
    "with open('../data/test03.txt', 'w') as f:\n",
    "    f.write('내 이름은 정현민.\\n탐정이죠.')\n",
    "\n",
    "# 위 방식대로 하면 실행문을 다 끝내면 파일이 자동으로 닫힘\n",
    "\n",
    "with open('../data/test03.txt', 'r') as f:\n",
    "    print(f.read())"
   ]
  }
 ],
 "metadata": {
  "kernelspec": {
   "display_name": "base",
   "language": "python",
   "name": "python3"
  },
  "language_info": {
   "codemirror_mode": {
    "name": "ipython",
    "version": 3
   },
   "file_extension": ".py",
   "mimetype": "text/x-python",
   "name": "python",
   "nbconvert_exporter": "python",
   "pygments_lexer": "ipython3",
   "version": "3.12.7"
  }
 },
 "nbformat": 4,
 "nbformat_minor": 2
}
