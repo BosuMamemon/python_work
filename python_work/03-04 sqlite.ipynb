{
 "cells": [
  {
   "cell_type": "code",
   "execution_count": 16,
   "metadata": {},
   "outputs": [],
   "source": [
    "import sqlite3"
   ]
  },
  {
   "cell_type": "code",
   "execution_count": 17,
   "metadata": {},
   "outputs": [],
   "source": [
    "def create_table():\n",
    "    conn = sqlite3.connect('books.db')  # books.db 라는 이름의 데이터베이스 파일 생성\n",
    "    c = conn.cursor()\n",
    "    sql = \"\"\"\n",
    "    CREATE TABLE IF NOT EXISTS book (\n",
    "        title TEXT,\n",
    "        published_data TEXT,\n",
    "        publisher TEXT,\n",
    "        pages INTEGER,\n",
    "        recommend INTEGER\n",
    "    );\n",
    "    \"\"\"\n",
    "    c.execute(sql)\n",
    "    conn.commit()\n",
    "    conn.close()\n",
    "\n",
    "create_table()"
   ]
  },
  {
   "cell_type": "code",
   "execution_count": 18,
   "metadata": {},
   "outputs": [],
   "source": [
    "def insert_book_1():\n",
    "    conn = sqlite3.connect('books.db')\n",
    "    c = conn.cursor()\n",
    "    sql = \"\"\"\n",
    "    INSERT INTO book\n",
    "    VALUES (\n",
    "        'Java', '2019-05-20', '길벗', 500, 10\n",
    "    );\n",
    "    \"\"\"\n",
    "    c.execute(sql)\n",
    "    conn.commit()\n",
    "    conn.close()\n",
    "\n",
    "insert_book_1()"
   ]
  },
  {
   "cell_type": "code",
   "execution_count": 19,
   "metadata": {},
   "outputs": [
    {
     "name": "stdout",
     "output_type": "stream",
     "text": [
      "('Java', '2019-05-20', '길벗', 500, 10)\n",
      "('Java', '2019-05-20', '길벗', 500, 10)\n",
      "('Python', '2018-04-20', '한빛', 584, 20)\n",
      "('빅데이터', '2014-07-02', '삼성', 296, 11)\n",
      "('안드로이드', '2010-02-10', '한빛', 526, 15)\n",
      "('Spring', '2013-12-02', '삼성', 248, 8)\n",
      "('Java', '2019-05-20', '길벗', 500, 10)\n"
     ]
    }
   ],
   "source": [
    "def select_all():\n",
    "    conn = sqlite3.connect('books.db')\n",
    "    c = conn.cursor()\n",
    "    sql = \"SELECT * FROM book;\"\n",
    "    c.execute(sql)\n",
    "    books = c.fetchall()    # fetchall(): 모든 데이터를 한 번에 가져옴\n",
    "    # 한 행의 데이터를 튜플로 가져오며, 전체 결과는 list로 가져옴\n",
    "    for book in books:\n",
    "        print(book)\n",
    "    conn.close()\n",
    "\n",
    "select_all()"
   ]
  },
  {
   "cell_type": "code",
   "execution_count": 20,
   "metadata": {},
   "outputs": [],
   "source": [
    "def insert_book_2(title, published_data, publisher, pages, recommend):\n",
    "    conn = sqlite3.connect('books.db')\n",
    "    c = conn.cursor()\n",
    "    sql = \"\"\"\n",
    "    INSERT INTO book\n",
    "    VALUES (?, ?, ?, ?, ?);\n",
    "    \"\"\"\n",
    "    c.execute(sql, (title, published_data, publisher, pages, recommend))    # sql문에 ?가 있을 경우, 두 번째 인자로 튜플을 전달\n",
    "    # 자바의 PreparedStatement와 비슷한 기능\n",
    "    conn.commit()\n",
    "    conn.close()\n",
    "\n",
    "insert_book_2('Python', '2018-04-20', '한빛', 584, 20)"
   ]
  },
  {
   "cell_type": "code",
   "execution_count": 21,
   "metadata": {},
   "outputs": [
    {
     "name": "stdout",
     "output_type": "stream",
     "text": [
      "('Java', '2019-05-20', '길벗', 500, 10)\n",
      "('Java', '2019-05-20', '길벗', 500, 10)\n",
      "('Python', '2018-04-20', '한빛', 584, 20)\n",
      "('빅데이터', '2014-07-02', '삼성', 296, 11)\n",
      "('안드로이드', '2010-02-10', '한빛', 526, 15)\n",
      "('Spring', '2013-12-02', '삼성', 248, 8)\n",
      "('Java', '2019-05-20', '길벗', 500, 10)\n",
      "('Python', '2018-04-20', '한빛', 584, 20)\n"
     ]
    }
   ],
   "source": [
    "select_all()"
   ]
  },
  {
   "cell_type": "code",
   "execution_count": 22,
   "metadata": {},
   "outputs": [],
   "source": [
    "def many_insert_books(data):\n",
    "    conn = sqlite3.connect('books.db')\n",
    "    c = conn.cursor()\n",
    "    sql = \"\"\"\n",
    "    INSERT INTO book\n",
    "    VALUES (?, ?, ?, ?, ?);\n",
    "    \"\"\"\n",
    "    c.executemany(sql, data)    # executemany(): 여러 개의 데이터를 list 형식으로 한 번에 입력\n",
    "    # for data in datas:\n",
    "    #   c.execute(sql, data) 랑 똑같은 기능\n",
    "    conn.commit()\n",
    "    conn.close()\n",
    "\n",
    "data = [\n",
    "    ('빅데이터', '2014-07-02', '삼성', 296, 11),\n",
    "    ('안드로이드', '2010-02-10', '한빛', 526, 15),\n",
    "    ('Spring', '2013-12-02', '삼성', 248, 8)\n",
    "]\n",
    "\n",
    "many_insert_books(data)"
   ]
  },
  {
   "cell_type": "code",
   "execution_count": 23,
   "metadata": {},
   "outputs": [
    {
     "name": "stdout",
     "output_type": "stream",
     "text": [
      "('Java', '2019-05-20', '길벗', 500, 10)\n",
      "('Java', '2019-05-20', '길벗', 500, 10)\n",
      "('Python', '2018-04-20', '한빛', 584, 20)\n",
      "('빅데이터', '2014-07-02', '삼성', 296, 11)\n",
      "('안드로이드', '2010-02-10', '한빛', 526, 15)\n",
      "('Spring', '2013-12-02', '삼성', 248, 8)\n",
      "('Java', '2019-05-20', '길벗', 500, 10)\n",
      "('Python', '2018-04-20', '한빛', 584, 20)\n",
      "('빅데이터', '2014-07-02', '삼성', 296, 11)\n",
      "('안드로이드', '2010-02-10', '한빛', 526, 15)\n",
      "('Spring', '2013-12-02', '삼성', 248, 8)\n"
     ]
    }
   ],
   "source": [
    "select_all()"
   ]
  },
  {
   "cell_type": "code",
   "execution_count": 24,
   "metadata": {},
   "outputs": [
    {
     "name": "stdout",
     "output_type": "stream",
     "text": [
      "('Python', '2018-04-20', '한빛', 584, 20)\n"
     ]
    }
   ],
   "source": [
    "def select_one(title):\n",
    "    conn = sqlite3.connect('books.db')\n",
    "    c = conn.cursor()\n",
    "    sql = \"SELECT * FROM book WHERE title=?;\"\n",
    "    c.execute(sql, (title,))\n",
    "    book = c.fetchone()    # fetchone(): 한 개의 데이터만 가져옴\n",
    "    print(book)\n",
    "    conn.close()\n",
    "\n",
    "select_one('Python')"
   ]
  },
  {
   "cell_type": "code",
   "execution_count": 29,
   "metadata": {},
   "outputs": [
    {
     "name": "stdout",
     "output_type": "stream",
     "text": [
      "[('Java', '2019-05-20', '길벗', 500, 10), ('Java', '2019-05-20', '길벗', 500, 10), ('Python', '2018-04-20', '한빛', 584, 20)]\n"
     ]
    }
   ],
   "source": [
    "def select_some(number):\n",
    "    conn = sqlite3.connect('books.db')\n",
    "    c = conn.cursor()\n",
    "    sql = \"SELECT * FROM book\"\n",
    "    c.execute(sql)\n",
    "    books = c.fetchmany(number)    # fetchmany(): 지정한 개수만큼 데이터를 순서대로 가져옴\n",
    "    print(books)\n",
    "    conn.close()\n",
    "\n",
    "select_some(3)"
   ]
  },
  {
   "cell_type": "code",
   "execution_count": 33,
   "metadata": {},
   "outputs": [
    {
     "name": "stdout",
     "output_type": "stream",
     "text": [
      "('Python', '2018-04-20', '한빛', 584, 20)\n",
      "('Python', '2018-04-20', '한빛', 584, 20)\n",
      "('안드로이드', '2010-02-10', '한빛', 526, 15)\n",
      "('안드로이드', '2010-02-10', '한빛', 526, 15)\n"
     ]
    }
   ],
   "source": [
    "def search_book(pages):\n",
    "    conn = sqlite3.connect('books.db')\n",
    "    c = conn.cursor()\n",
    "    sql = \"SELECT * FROM book WHERE pages >= ? ORDER BY title;\"\n",
    "    c.execute(sql, (pages,))\n",
    "    books = c.fetchall()\n",
    "    for book in books:\n",
    "        print(book)\n",
    "    conn.close()\n",
    "\n",
    "search_book(501)"
   ]
  },
  {
   "cell_type": "code",
   "execution_count": 34,
   "metadata": {},
   "outputs": [],
   "source": [
    "def update_book(data):\n",
    "    conn = sqlite3.connect('books.db')\n",
    "    c = conn.cursor()\n",
    "    c.execute(\"UPDATE book SET pages=?, recommend=? WHERE title=?;\", data)\n",
    "    conn.commit()\n",
    "    conn.close()\n",
    "\n",
    "update_book((600, 30, 'Python'))"
   ]
  },
  {
   "cell_type": "code",
   "execution_count": 36,
   "metadata": {},
   "outputs": [
    {
     "name": "stdout",
     "output_type": "stream",
     "text": [
      "('Java', '2019-05-20', '길벗', 100, 1)\n",
      "('Java', '2019-05-20', '길벗', 100, 1)\n",
      "('Python', '2018-04-20', '한빛', 200, 2)\n",
      "('빅데이터', '2014-07-02', '삼성', 296, 11)\n",
      "('안드로이드', '2010-02-10', '한빛', 526, 15)\n",
      "('Spring', '2013-12-02', '삼성', 248, 8)\n",
      "('Java', '2019-05-20', '길벗', 100, 1)\n",
      "('Python', '2018-04-20', '한빛', 200, 2)\n",
      "('빅데이터', '2014-07-02', '삼성', 296, 11)\n",
      "('안드로이드', '2010-02-10', '한빛', 526, 15)\n",
      "('Spring', '2013-12-02', '삼성', 248, 8)\n"
     ]
    }
   ],
   "source": [
    "def update_books(datas):\n",
    "    conn = sqlite3.connect('books.db')\n",
    "    c = conn.cursor()\n",
    "    c.executemany(\"UPDATE book SET pages=?, recommend=? WHERE title=?;\", datas)\n",
    "    conn.commit()\n",
    "    conn.close()\n",
    "\n",
    "update_books([(100, 1, 'Java'), (200, 2, 'Python')])\n",
    "select_all()"
   ]
  },
  {
   "cell_type": "code",
   "execution_count": null,
   "metadata": {},
   "outputs": [
    {
     "name": "stdout",
     "output_type": "stream",
     "text": [
      "('Python', '2018-04-20', '한빛', 200, 2)\n",
      "('빅데이터', '2014-07-02', '삼성', 296, 11)\n",
      "('안드로이드', '2010-02-10', '한빛', 526, 15)\n",
      "('Spring', '2013-12-02', '삼성', 248, 8)\n",
      "('Python', '2018-04-20', '한빛', 200, 2)\n",
      "('빅데이터', '2014-07-02', '삼성', 296, 11)\n",
      "('안드로이드', '2010-02-10', '한빛', 526, 15)\n",
      "('Spring', '2013-12-02', '삼성', 248, 8)\n"
     ]
    }
   ],
   "source": [
    "def delete_book(title):\n",
    "    conn = sqlite3.connect('books.db')\n",
    "    c = conn.cursor()\n",
    "    c.execute(\"DELETE FROM book WHERE title=?;\", (title,))\n",
    "    conn.commit()\n",
    "    conn.close()\n",
    "\n",
    "delete_book('Java')"
   ]
  },
  {
   "cell_type": "code",
   "execution_count": null,
   "metadata": {},
   "outputs": [
    {
     "name": "stdout",
     "output_type": "stream",
     "text": [
      "('안드로이드', '2010-02-10', '한빛', 526, 15)\n",
      "('Spring', '2013-12-02', '삼성', 248, 8)\n",
      "('안드로이드', '2010-02-10', '한빛', 526, 15)\n",
      "('Spring', '2013-12-02', '삼성', 248, 8)\n"
     ]
    }
   ],
   "source": [
    "def delete_books(datas):\n",
    "    conn = sqlite3.connect('books.db')\n",
    "    c = conn.cursor()\n",
    "    c.executemany(\"DELETE FROM book WHERE title=?;\", datas)\n",
    "    # execute -> 레코드를 여러 개 삭제할 때에도 조건이 하나라면 이걸 씀\n",
    "    # executemany -> 조건을 여러 개 설정할 때\n",
    "    conn.commit()\n",
    "    conn.close()\n",
    "\n",
    "delete_books([('Python',), ('빅데이터',)])"
   ]
  },
  {
   "cell_type": "code",
   "execution_count": null,
   "metadata": {},
   "outputs": [],
   "source": []
  }
 ],
 "metadata": {
  "kernelspec": {
   "display_name": "base",
   "language": "python",
   "name": "python3"
  },
  "language_info": {
   "codemirror_mode": {
    "name": "ipython",
    "version": 3
   },
   "file_extension": ".py",
   "mimetype": "text/x-python",
   "name": "python",
   "nbconvert_exporter": "python",
   "pygments_lexer": "ipython3",
   "version": "3.12.7"
  }
 },
 "nbformat": 4,
 "nbformat_minor": 2
}
