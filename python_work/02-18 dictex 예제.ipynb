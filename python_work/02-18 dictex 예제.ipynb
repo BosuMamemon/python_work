{
 "cells": [
  {
   "cell_type": "markdown",
   "metadata": {},
   "source": [
    "예제\n",
    "1. 학생 5명의 이름과 점수로 딕셔너리 dict를 생성하라.\n",
    "2. dict의 key를 모두 추출하라.\n",
    "3. dict의 value를 모두 추출하라.\n",
    "4. 본인의 이름과 점수를 사용하여 새로운 데이터를 추가하라.\n",
    "5. 딕셔너리의 모든 key와 value를 한 쌍으로 하여 튜플을 생성하라.\n",
    "6. 본인의 이름으로 추가된 데이터를 삭제하라."
   ]
  },
  {
   "cell_type": "code",
   "execution_count": 15,
   "metadata": {},
   "outputs": [
    {
     "name": "stdout",
     "output_type": "stream",
     "text": [
      "{'따봉준목': 100, '인성유빈': 90, '서윗영광': 80, '뚜껑소정': 70, '핑프진영': 0}\n"
     ]
    }
   ],
   "source": [
    "# 예제 1\n",
    "dict = {\"따봉준목\":100, \"인성유빈\":90, \"서윗영광\":80, \"뚜껑소정\":70, \"핑프진영\":0}\n",
    "print(dict)"
   ]
  },
  {
   "cell_type": "code",
   "execution_count": 16,
   "metadata": {},
   "outputs": [
    {
     "name": "stdout",
     "output_type": "stream",
     "text": [
      "따봉준목\n",
      "인성유빈\n",
      "서윗영광\n",
      "뚜껑소정\n",
      "핑프진영\n"
     ]
    }
   ],
   "source": [
    "# 예제 2\n",
    "for i in dict.keys():\n",
    "    print(i)"
   ]
  },
  {
   "cell_type": "code",
   "execution_count": 17,
   "metadata": {},
   "outputs": [
    {
     "name": "stdout",
     "output_type": "stream",
     "text": [
      "100\n",
      "90\n",
      "80\n",
      "70\n",
      "0\n"
     ]
    }
   ],
   "source": [
    "# 예제 3\n",
    "for i in dict.values():\n",
    "    print(i)"
   ]
  },
  {
   "cell_type": "code",
   "execution_count": 18,
   "metadata": {},
   "outputs": [
    {
     "name": "stdout",
     "output_type": "stream",
     "text": [
      "{'따봉준목': 100, '인성유빈': 90, '서윗영광': 80, '뚜껑소정': 70, '핑프진영': 0, '기가현민': 0}\n"
     ]
    }
   ],
   "source": [
    "# 예제 4\n",
    "dict[\"기가현민\"] = 0\n",
    "print(dict)"
   ]
  },
  {
   "cell_type": "code",
   "execution_count": 19,
   "metadata": {},
   "outputs": [
    {
     "name": "stdout",
     "output_type": "stream",
     "text": [
      "('따봉준목', 100)\n",
      "('인성유빈', 90)\n",
      "('서윗영광', 80)\n",
      "('뚜껑소정', 70)\n",
      "('핑프진영', 0)\n",
      "('기가현민', 0)\n"
     ]
    }
   ],
   "source": [
    "# 예제 5\n",
    "tuple = dict.items()\n",
    "for i in tuple:\n",
    "    print(i)"
   ]
  },
  {
   "cell_type": "code",
   "execution_count": 20,
   "metadata": {},
   "outputs": [
    {
     "name": "stdout",
     "output_type": "stream",
     "text": [
      "따봉준목, 100\n",
      "인성유빈, 90\n",
      "서윗영광, 80\n",
      "뚜껑소정, 70\n",
      "핑프진영, 0\n",
      "기가현민, 0\n"
     ]
    }
   ],
   "source": [
    "# 예제 6\n",
    "for k, v in tuple:\n",
    "    print(k + \", \" + str(v))"
   ]
  },
  {
   "cell_type": "code",
   "execution_count": 21,
   "metadata": {},
   "outputs": [
    {
     "name": "stdout",
     "output_type": "stream",
     "text": [
      "{'따봉준목': 100, '인성유빈': 90, '서윗영광': 80, '뚜껑소정': 70, '핑프진영': 0}\n"
     ]
    }
   ],
   "source": [
    "# 예제 7\n",
    "del dict[\"기가현민\"]\n",
    "print(dict)"
   ]
  }
 ],
 "metadata": {
  "kernelspec": {
   "display_name": "base",
   "language": "python",
   "name": "python3"
  },
  "language_info": {
   "codemirror_mode": {
    "name": "ipython",
    "version": 3
   },
   "file_extension": ".py",
   "mimetype": "text/x-python",
   "name": "python",
   "nbconvert_exporter": "python",
   "pygments_lexer": "ipython3",
   "version": "3.12.7"
  }
 },
 "nbformat": 4,
 "nbformat_minor": 2
}
