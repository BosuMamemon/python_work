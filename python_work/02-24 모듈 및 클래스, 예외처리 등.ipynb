{
 "cells": [
  {
   "cell_type": "code",
   "execution_count": 43,
   "metadata": {},
   "outputs": [
    {
     "name": "stdout",
     "output_type": "stream",
     "text": [
      "30\n",
      "10\n"
     ]
    }
   ],
   "source": [
    "# 모듈 전체를 임포트 해올때\n",
    "import mod1\n",
    "\n",
    "print(mod1.add(20, 10))\n",
    "print(mod1.sub(20, 10))"
   ]
  },
  {
   "cell_type": "code",
   "execution_count": 44,
   "metadata": {},
   "outputs": [
    {
     "name": "stdout",
     "output_type": "stream",
     "text": [
      "30\n"
     ]
    }
   ],
   "source": [
    "# 모듈의 일부만 임포트 해올 때\n",
    "from mod1 import add\n",
    "\n",
    "print(add(20, 10))"
   ]
  },
  {
   "cell_type": "code",
   "execution_count": 45,
   "metadata": {},
   "outputs": [
    {
     "name": "stdout",
     "output_type": "stream",
     "text": [
      "30\n"
     ]
    }
   ],
   "source": [
    "# 모듈 안에 있는 모든 요소를 임포트해오고 싶을 때\n",
    "from mod1 import *\n",
    "\n",
    "print(add(20, 10))"
   ]
  },
  {
   "cell_type": "code",
   "execution_count": 46,
   "metadata": {},
   "outputs": [
    {
     "name": "stdout",
     "output_type": "stream",
     "text": [
      "3.14159265357989\n",
      "78.53981633949725\n",
      "3\n",
      "-1\n",
      "2\n"
     ]
    }
   ],
   "source": [
    "import importlib\n",
    "import mod1\n",
    "importlib.reload(mod1)  # 임포트 라이브러리라는 모듈에서 모듈을 새로고침해버리기\n",
    "\n",
    "print(mod1.PI)\n",
    "a = mod1.Math()\n",
    "print(a.solv(5))\n",
    "\n",
    "print(mod1.add(1, 2))\n",
    "print(mod1.sub(1, 2))\n",
    "print(mod1.mul(1, 2))"
   ]
  },
  {
   "cell_type": "code",
   "execution_count": 47,
   "metadata": {},
   "outputs": [
    {
     "name": "stdout",
     "output_type": "stream",
     "text": [
      "3.14159265357989\n",
      "<function add at 0x000001941D4BE520>\n"
     ]
    }
   ],
   "source": [
    "import importlib\n",
    "import mod2\n",
    "importlib.reload(mod2)\n",
    "\n",
    "mod2.show()"
   ]
  },
  {
   "cell_type": "code",
   "execution_count": 48,
   "metadata": {},
   "outputs": [
    {
     "name": "stdout",
     "output_type": "stream",
     "text": [
      "30\n"
     ]
    },
    {
     "data": {
      "text/plain": [
       "78.53981633949725"
      ]
     },
     "execution_count": 48,
     "metadata": {},
     "output_type": "execute_result"
    }
   ],
   "source": [
    "import mymod.mod3\n",
    "\n",
    "print(mymod.mod3.add(10, 20))\n",
    "a = mymod.mod3.Math()\n",
    "a.solv(5)"
   ]
  },
  {
   "cell_type": "code",
   "execution_count": 5,
   "metadata": {},
   "outputs": [
    {
     "data": {
      "text/plain": [
       "78.53981633949725"
      ]
     },
     "execution_count": 5,
     "metadata": {},
     "output_type": "execute_result"
    }
   ],
   "source": [
    "from mymod import mod3\n",
    "\n",
    "a = mod3.Math()\n",
    "a.solv(5)"
   ]
  },
  {
   "cell_type": "code",
   "execution_count": 3,
   "metadata": {},
   "outputs": [
    {
     "name": "stdout",
     "output_type": "stream",
     "text": [
      "echo\n"
     ]
    }
   ],
   "source": [
    "from game.sound import echo\n",
    "\n",
    "echo.echo_test()"
   ]
  },
  {
   "cell_type": "code",
   "execution_count": 6,
   "metadata": {},
   "outputs": [
    {
     "name": "stdout",
     "output_type": "stream",
     "text": [
      "Initializing game...\n"
     ]
    },
    {
     "data": {
      "text/plain": [
       "<module 'game' from 'c:\\\\JHM\\\\Python\\\\python_work\\\\game\\\\__init__.py'>"
      ]
     },
     "execution_count": 6,
     "metadata": {},
     "output_type": "execute_result"
    }
   ],
   "source": [
    "import importlib\n",
    "import game\n",
    "importlib.reload(game)  # 패키지를 부르기만 해도 이니셜라이저(__init__.py)가 나옴\n",
    "\n",
    "# 내 부모의 패키지로 올라갈때는 ..(패키지명)이라고 해주면 됨"
   ]
  },
  {
   "cell_type": "code",
   "execution_count": 9,
   "metadata": {},
   "outputs": [
    {
     "name": "stdout",
     "output_type": "stream",
     "text": [
      "division by zero\n",
      "0으로 나누었습니다.\n"
     ]
    }
   ],
   "source": [
    "# try-except문 = 자바의 try-catch문이랑 같음\n",
    "# try:\n",
    "#     4 / 0\n",
    "# except:\n",
    "#     print('0으로 나누었습니다.')\n",
    "# 위 try문을 아래처럼 써도 됨\n",
    "try:\n",
    "    4 / 0\n",
    "except ZeroDivisionError as e:\n",
    "    print(e)\n",
    "    print('0으로 나누었습니다.')"
   ]
  },
  {
   "cell_type": "code",
   "execution_count": 12,
   "metadata": {},
   "outputs": [
    {
     "name": "stdout",
     "output_type": "stream",
     "text": [
      "파일 읽기 오류\n",
      "End...\n"
     ]
    }
   ],
   "source": [
    "# try-except문에도 finally가 있음\n",
    "try:\n",
    "    f = open('what.txt')\n",
    "    data = f.read()\n",
    "except:\n",
    "    print('파일 읽기 오류')\n",
    "finally:\n",
    "    print('End...')"
   ]
  },
  {
   "cell_type": "code",
   "execution_count": 17,
   "metadata": {},
   "outputs": [
    {
     "name": "stdout",
     "output_type": "stream",
     "text": [
      "list index out of range\n"
     ]
    }
   ],
   "source": [
    "# 예외도 여러개 처리 가능\n",
    "try:\n",
    "    a = [1, 2]\n",
    "    print(a[3])\n",
    "    4 / 0\n",
    "except (ZeroDivisionError, IndexError) as e:\n",
    "    print(e)"
   ]
  },
  {
   "cell_type": "code",
   "execution_count": 20,
   "metadata": {},
   "outputs": [
    {
     "name": "stdout",
     "output_type": "stream",
     "text": [
      "입력 오류\n"
     ]
    }
   ],
   "source": [
    "# try-except-else문\n",
    "try:\n",
    "    age = int(input('나이 입력'))\n",
    "except:\n",
    "    print('입력 오류')\n",
    "else:\n",
    "    if age <= 18:\n",
    "        print(\"미성년자는 출입금지입니다.\")\n",
    "    else:\n",
    "        print('환영합니다.')"
   ]
  },
  {
   "cell_type": "code",
   "execution_count": 23,
   "metadata": {},
   "outputs": [
    {
     "name": "stdout",
     "output_type": "stream",
     "text": [
      "[Errno 2] No such file or directory: '없는 파일'\n"
     ]
    }
   ],
   "source": [
    "# 오류 회피하기\n",
    "try:\n",
    "    f = open('없는 파일', 'r')\n",
    "except FileNotFoundError as e:\n",
    "    print(e)\n",
    "    pass"
   ]
  },
  {
   "cell_type": "code",
   "execution_count": 30,
   "metadata": {},
   "outputs": [
    {
     "name": "stdout",
     "output_type": "stream",
     "text": [
      "False\n",
      "True\n",
      "c\n",
      "['__add__', '__class__', '__class_getitem__', '__contains__', '__delattr__', '__delitem__', '__dir__', '__doc__', '__eq__', '__format__', '__ge__', '__getattribute__', '__getitem__', '__getstate__', '__gt__', '__hash__', '__iadd__', '__imul__', '__init__', '__init_subclass__', '__iter__', '__le__', '__len__', '__lt__', '__mul__', '__ne__', '__new__', '__reduce__', '__reduce_ex__', '__repr__', '__reversed__', '__rmul__', '__setattr__', '__setitem__', '__sizeof__', '__str__', '__subclasshook__', 'append', 'clear', 'copy', 'count', 'extend', 'index', 'insert', 'pop', 'remove', 'reverse', 'sort']\n",
      "(3, 1)\n",
      "0 body\n",
      "1 foo\n",
      "2 bar\n",
      "3 python\n",
      "3\n",
      "hia\n",
      "(3, 1)\n"
     ]
    }
   ],
   "source": [
    "a = [1, 2, 3, 0]\n",
    "print(all(a))\n",
    "print(any(a))\n",
    "print(chr(99))\n",
    "print(dir(a))\n",
    "print(divmod(10, 3))    # 10 나누기 3에 대한 결과를 (몫, 나머지)의 형식으로 반환함\n",
    "\n",
    "b = ['body', 'foo', 'bar', 'python']\n",
    "for i, v in enumerate(b):   # enumerate(리스트) = (인덱스, 값)을 반환함\n",
    "    print(i, v)\n",
    "\n",
    "print(eval('1 + 2'))    # eval('문자열') = 문자열을 그대로 수식으로 만들어주는 함수\n",
    "print(eval(\"'hi' + 'a'\"))\n",
    "print(eval('divmod(10, 3)'))"
   ]
  },
  {
   "cell_type": "code",
   "execution_count": 32,
   "metadata": {},
   "outputs": [
    {
     "data": {
      "text/plain": [
       "[1, 2, 9]"
      ]
     },
     "execution_count": 32,
     "metadata": {},
     "output_type": "execute_result"
    }
   ],
   "source": [
    "# 리스트에서 0이상의 값만 뽑아내는 함수를 스스로 만들기\n",
    "def positive(l):\n",
    "    result = []\n",
    "    for i in l:\n",
    "        if i > 0:\n",
    "            result.append(i)\n",
    "    return result\n",
    "\n",
    "positive([1, -3, 2, 0, -5, 9])"
   ]
  },
  {
   "cell_type": "code",
   "execution_count": null,
   "metadata": {},
   "outputs": [
    {
     "data": {
      "text/plain": [
       "[1, 2, 9]"
      ]
     },
     "execution_count": 35,
     "metadata": {},
     "output_type": "execute_result"
    }
   ],
   "source": [
    "# 위 함수를 filter를 써서 개쉽게 만들기\n",
    "def positive1(x):\n",
    "    return x > 0\n",
    "\n",
    "print(list(filter(positive1, [1, -3, 2, 0, -5, 9])))"
   ]
  },
  {
   "cell_type": "code",
   "execution_count": 38,
   "metadata": {},
   "outputs": [
    {
     "name": "stdout",
     "output_type": "stream",
     "text": [
      "[1, 2, 9]\n"
     ]
    }
   ],
   "source": [
    "# 위 함수를 람다 함수를 써서 더 짧게 코드 짜기\n",
    "\n",
    "print(list(filter(lambda x: x > 0, [1, -3, 2, 0, -5, 9])))"
   ]
  },
  {
   "cell_type": "code",
   "execution_count": 40,
   "metadata": {},
   "outputs": [
    {
     "name": "stdout",
     "output_type": "stream",
     "text": [
      "[2, 4, 6, 8, 10]\n"
     ]
    }
   ],
   "source": [
    "# 1부터 10까지 들어있는 리스트에서 짝수만 뽑아서 리스트 만들기\n",
    "\n",
    "print(list(filter(lambda x: x % 2 == 0, [1, 2, 3, 4, 5, 6, 7, 8, 9, 10])))"
   ]
  },
  {
   "cell_type": "code",
   "execution_count": 42,
   "metadata": {},
   "outputs": [
    {
     "data": {
      "text/plain": [
       "'0x7b'"
      ]
     },
     "execution_count": 42,
     "metadata": {},
     "output_type": "execute_result"
    }
   ],
   "source": [
    "hex(123)    # 10진수를 16진수로 바꾸는 함수"
   ]
  },
  {
   "cell_type": "code",
   "execution_count": 45,
   "metadata": {},
   "outputs": [
    {
     "name": "stdout",
     "output_type": "stream",
     "text": [
      "140723584510456\n"
     ]
    }
   ],
   "source": [
    "a = 3\n",
    "print(id(a))    # id() = 객체의 주소를 리턴하는 함수"
   ]
  },
  {
   "cell_type": "code",
   "execution_count": 48,
   "metadata": {},
   "outputs": [
    {
     "name": "stdout",
     "output_type": "stream",
     "text": [
      "11 <class 'str'>\n",
      "11 <class 'int'>\n",
      "3 <class 'int'>\n"
     ]
    }
   ],
   "source": [
    "a = '11'\n",
    "b = int(a)\n",
    "print(a, type(a))\n",
    "print(b, type(b))\n",
    "\n",
    "c = int(a, 2)   # a안에 들어있는 값을 2진수로 인식하겠다는 말임. 기본값 = 10진수\n",
    "print(c, type(c))"
   ]
  },
  {
   "cell_type": "code",
   "execution_count": 52,
   "metadata": {},
   "outputs": [
    {
     "name": "stdout",
     "output_type": "stream",
     "text": [
      "True\n",
      "False\n"
     ]
    }
   ],
   "source": [
    "class Person:\n",
    "    pass\n",
    "\n",
    "a = Person()\n",
    "print(isinstance(a, Person))   # isinstance(객체, 타입) = 객체의 인스턴스가 해당 타입이면 True를 반환\n",
    "b = 'Person'\n",
    "print(isinstance(b, Person))\n"
   ]
  },
  {
   "cell_type": "code",
   "execution_count": 6,
   "metadata": {},
   "outputs": [
    {
     "name": "stdout",
     "output_type": "stream",
     "text": [
      "[2, 4, 6, 8]\n",
      "[3, 6, 9, 12]\n"
     ]
    }
   ],
   "source": [
    "# map(f, iterable) = 입력받은 데이터의 각 요소에 함수 f를 적용한 결과를 반환\n",
    "def two_times(x):\n",
    "    return x * 2\n",
    "a = [1, 2, 3, 4]\n",
    "print(list(map(two_times, a)))\n",
    "\n",
    "# 더 쉽게 만드는 법: lambda\n",
    "print(list(map(lambda x: x * 3, a)))"
   ]
  },
  {
   "cell_type": "code",
   "execution_count": 13,
   "metadata": {},
   "outputs": [
    {
     "name": "stdout",
     "output_type": "stream",
     "text": [
      "[0, 5, 10, 15, 20, 25, 30, 35, 40, 45, 50, 55, 60, 65, 70, 75, 80, 85, 90, 95]\n",
      "[2, 4, 6, 8, 10, 12, 14, 16, 18, 20, 22, 24, 26, 28, 30, 32, 34, 36, 38, 40, 42, 44, 46, 48, 50]\n"
     ]
    }
   ],
   "source": [
    "a = list(range(0, 100, 5))\n",
    "print(a)\n",
    "\n",
    "# 1부터 50까지 리스트에서 짝수만 뽑는 함수를 한줄로만 짜기\n",
    "a = list(filter(lambda x: x % 2 == 0, list(range(1, 51))))\n",
    "print(a)"
   ]
  },
  {
   "cell_type": "code",
   "execution_count": 16,
   "metadata": {},
   "outputs": [
    {
     "name": "stdout",
     "output_type": "stream",
     "text": [
      "[1, 2, 3, 5, 7]\n",
      "['h', 'n', 'o', 'p', 't', 'y']\n"
     ]
    }
   ],
   "source": [
    "#  sorted() 오름차순 정렬 함수\n",
    "a = [2, 7, 3, 5, 1]\n",
    "print(sorted(a))\n",
    "print(sorted('python'))"
   ]
  },
  {
   "cell_type": "code",
   "execution_count": 1,
   "metadata": {},
   "outputs": [
    {
     "data": {
      "text/plain": [
       "45"
      ]
     },
     "execution_count": 1,
     "metadata": {},
     "output_type": "execute_result"
    }
   ],
   "source": [
    "a = list(range(1, 10))\n",
    "sum(a)  # 리스트에 있는 값 다 더해주는 함수"
   ]
  },
  {
   "cell_type": "code",
   "execution_count": 2,
   "metadata": {},
   "outputs": [
    {
     "name": "stdout",
     "output_type": "stream",
     "text": [
      "('a', 'b', 'c')\n",
      "(1, 2, 3)\n",
      "(1, 2, 3)\n"
     ]
    }
   ],
   "source": [
    "# --tuple(iterable) : 반복가능한 데이터를 튜플로 바꾸어 리턴하는 함수\n",
    "print(tuple(\"abc\"))\n",
    "print(tuple([1,2,3]))   #리스트를 튜플로 변경\n",
    "print(tuple((1,2,3)))  \n"
   ]
  },
  {
   "cell_type": "code",
   "execution_count": 3,
   "metadata": {},
   "outputs": [
    {
     "data": {
      "text/plain": [
       "[(1, 10),\n",
       " (2, 20),\n",
       " (3, 30),\n",
       " (4, 40),\n",
       " (5, 50),\n",
       " (6, 60),\n",
       " (7, 70),\n",
       " (8, 80),\n",
       " (9, 90)]"
      ]
     },
     "execution_count": 3,
     "metadata": {},
     "output_type": "execute_result"
    }
   ],
   "source": [
    "# -- type(객체) : 입력값의 자료형이 무엇인지 알려주는 함수\n",
    "# -- zip(*iterable) : 동일한 개수로 이루어진 데이터들을 묶어서 리턴하는 함수\n",
    "\n",
    "a= list(range(1,10))\n",
    "b= list(range(10,100,10))\n",
    "len(b)\n",
    "list(zip(a,b))"
   ]
  }
 ],
 "metadata": {
  "kernelspec": {
   "display_name": "base",
   "language": "python",
   "name": "python3"
  },
  "language_info": {
   "codemirror_mode": {
    "name": "ipython",
    "version": 3
   },
   "file_extension": ".py",
   "mimetype": "text/x-python",
   "name": "python",
   "nbconvert_exporter": "python",
   "pygments_lexer": "ipython3",
   "version": "3.12.7"
  }
 },
 "nbformat": 4,
 "nbformat_minor": 2
}
