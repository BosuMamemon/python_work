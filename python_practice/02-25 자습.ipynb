{
 "cells": [
  {
   "cell_type": "code",
   "execution_count": 5,
   "metadata": {},
   "outputs": [
    {
     "name": "stdout",
     "output_type": "stream",
     "text": [
      "Requirement already satisfied: numpy in c:\\users\\administrator\\anaconda3\\lib\\site-packages (1.26.4)\n",
      "Requirement already satisfied: pandas in c:\\users\\administrator\\anaconda3\\lib\\site-packages (2.2.2)\n",
      "Requirement already satisfied: numpy>=1.26.0 in c:\\users\\administrator\\anaconda3\\lib\\site-packages (from pandas) (1.26.4)\n",
      "Requirement already satisfied: python-dateutil>=2.8.2 in c:\\users\\administrator\\anaconda3\\lib\\site-packages (from pandas) (2.9.0.post0)\n",
      "Requirement already satisfied: pytz>=2020.1 in c:\\users\\administrator\\anaconda3\\lib\\site-packages (from pandas) (2024.1)\n",
      "Requirement already satisfied: tzdata>=2022.7 in c:\\users\\administrator\\anaconda3\\lib\\site-packages (from pandas) (2023.3)\n",
      "Requirement already satisfied: six>=1.5 in c:\\users\\administrator\\anaconda3\\lib\\site-packages (from python-dateutil>=2.8.2->pandas) (1.16.0)\n"
     ]
    }
   ],
   "source": [
    "! pip install numpy\n",
    "! pip install pandas"
   ]
  },
  {
   "cell_type": "code",
   "execution_count": 6,
   "metadata": {},
   "outputs": [],
   "source": [
    "import numpy as np\n",
    "import pandas as pd"
   ]
  },
  {
   "cell_type": "code",
   "execution_count": 7,
   "metadata": {},
   "outputs": [
    {
     "name": "stdout",
     "output_type": "stream",
     "text": [
      "[1 2 3 4 5 6 7 8 9]\n",
      "[0. 0. 0. 0. 0.]\n",
      "[1. 1. 1. 1. 1.]\n",
      "[0 0 0 0 0 0 0 0 0]\n",
      "[1 1 1 1 1 1 1 1 1]\n",
      "[[1. 0. 0.]\n",
      " [0. 1. 0.]\n",
      " [0. 0. 1.]]\n",
      "[[5 5 5]\n",
      " [5 5 5]]\n",
      "(array([ 0. ,  2.5,  5. ,  7.5, 10. ]), 2.5)\n",
      "[[1.46923442e+195 4.76693711e+180]\n",
      " [2.64521819e+185 6.19640467e+223]\n",
      " [3.81187276e+180 9.54593534e-307]]\n"
     ]
    }
   ],
   "source": [
    "# Numpy 배열 생성 실습\n",
    "a1 = np.arange(1, 10, 1)\n",
    "print(a1)\n",
    "\n",
    "a2 = np.zeros(5)\n",
    "print(a2)\n",
    "\n",
    "a3 =  np.ones(5)\n",
    "print(a3)\n",
    "\n",
    "a4 = np.zeros_like(a1)\n",
    "print(a4)\n",
    "\n",
    "a5 = np.ones_like(a1)\n",
    "print(a5)\n",
    "\n",
    "a6 = np.eye(3)\n",
    "print(a6)\n",
    "\n",
    "a7 = np.full((2, 3), 5)\n",
    "print(a7)\n",
    "\n",
    "a8 = np.linspace(0, 10, 5, endpoint=True, retstep=True)\n",
    "print(a8)\n",
    "\n",
    "a9 = np.empty((3, 2))\n",
    "print(a9)\n"
   ]
  },
  {
   "cell_type": "code",
   "execution_count": 8,
   "metadata": {},
   "outputs": [],
   "source": [
    "# 초콜릿 평점 분석 실습\n",
    "\n",
    "data = np.loadtxt('data/chocolate_rating.csv', delimiter=',')"
   ]
  },
  {
   "cell_type": "code",
   "execution_count": 9,
   "metadata": {},
   "outputs": [
    {
     "name": "stdout",
     "output_type": "stream",
     "text": [
      "70.0\n"
     ]
    }
   ],
   "source": [
    "# 모든 초콜릿의 평균 평점\n",
    "avgRatings = data[:, 3].mean()\n",
    "\n",
    "# 평점 4점 이상의 우수 초콜릿\n",
    "good_choco = data[data[:, 3] >= 4,:]\n",
    "\n",
    "# # 윗 놈의 id(첫번째 열)의 데이터형을 정수(int64)로 변환\n",
    "# good_id = good_choco[:, 0].astype(np.int64)\n",
    "\n",
    "# 우수 초콜릿의 카카오 함유량\n",
    "good_kakaoPer = good_choco[:, 2]\n",
    "\n",
    "# 카카오 함유량 중복값 제거\n",
    "unq_kakaoPer, kakaoPer_count= np.unique(good_kakaoPer, return_counts=True)\n",
    "\n",
    "# 우수 초콜릿 중 가장 빈도 수가 큰 카카오 함유량\n",
    "max_index = np.argmax(kakaoPer_count)\n",
    "\n",
    "# 가장 빈도수가 큰 카카오 함유량(%)\n",
    "print(unq_kakaoPer[max_index] * 100)"
   ]
  },
  {
   "cell_type": "code",
   "execution_count": 14,
   "metadata": {},
   "outputs": [],
   "source": [
    "# 영화 어쩌고 ㅋㅋ 실습\n",
    "\n",
    "data = np.genfromtxt('data/ratings.dat', delimiter='::', dtype=np.int64)"
   ]
  },
  {
   "cell_type": "code",
   "execution_count": 19,
   "metadata": {},
   "outputs": [
    {
     "name": "stdout",
     "output_type": "stream",
     "text": [
      "[[        1      1193         5 978300760]\n",
      " [        1       661         3 978302109]\n",
      " [        1       914         3 978301968]\n",
      " [        1      3408         4 978300275]\n",
      " [        1      2355         5 978824291]]\n",
      "\n",
      "(1000209, 4)\n",
      "\n"
     ]
    }
   ],
   "source": [
    "# 처음 5행의 데이터만 확인\n",
    "print(data[:5, :])\n",
    "print()\n",
    "\n",
    "# data의 형태(shape) 확인\n",
    "print(data.shape)\n",
    "print()"
   ]
  },
  {
   "cell_type": "code",
   "execution_count": 26,
   "metadata": {},
   "outputs": [],
   "source": [
    "# 전체 평균 평점 계산\n",
    "ratingAvg_total = data[:, 2].mean()\n",
    "\n",
    "# 사용자 아이디 수집\n",
    "userIds = np.unique(data[:, 0])\n",
    "\n",
    "# 사용자별 평점 평균\n",
    "ratingAvg_user = []\n",
    "for userId in userIds:\n",
    "    ratingAvg_user.append([userId, data[data[:, 0] == userId, 2].mean()])"
   ]
  },
  {
   "cell_type": "code",
   "execution_count": 29,
   "metadata": {},
   "outputs": [],
   "source": [
    "# 사용자별 평점 평균 넘파이 배열로 변환\n",
    "ratingAvg_user_array = np.array(ratingAvg_user)\n",
    "\n",
    "# 그 놈을 csv 파일로 저장\n",
    "np.savetxt('data/ratingAvg_user_array.csv', ratingAvg_user_array, delimiter='::', fmt='%.1f')"
   ]
  },
  {
   "cell_type": "code",
   "execution_count": null,
   "metadata": {},
   "outputs": [],
   "source": [
    "# 영화 ID\n",
    "movieIds = np.unique(data[:, 1])\n",
    "1\n",
    "\n",
    "# 영화별 평점 평균 구하기\n",
    "ratingAvg_movie = []\n",
    "for movieId in movieIds:\n",
    "    ratingAvg_movie.append([movieId, data[data[:, 1] == movieId, 2].mean()])"
   ]
  },
  {
   "cell_type": "code",
   "execution_count": 32,
   "metadata": {},
   "outputs": [],
   "source": [
    "# 영화별 평점 평균 넘파이 배열로 변환\n",
    "ratingAvg_movie_arr = np.array(ratingAvg_movie)\n",
    "\n",
    "# 저 긴놈을 저장\n",
    "np.savetxt('data/moviestar.csv', ratingAvg_movie_arr, delimiter='::', fmt='%.1f')"
   ]
  }
 ],
 "metadata": {
  "kernelspec": {
   "display_name": "base",
   "language": "python",
   "name": "python3"
  },
  "language_info": {
   "codemirror_mode": {
    "name": "ipython",
    "version": 3
   },
   "file_extension": ".py",
   "mimetype": "text/x-python",
   "name": "python",
   "nbconvert_exporter": "python",
   "pygments_lexer": "ipython3",
   "version": "3.12.7"
  }
 },
 "nbformat": 4,
 "nbformat_minor": 2
}
