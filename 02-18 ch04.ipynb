{
 "cells": [
  {
   "cell_type": "markdown",
   "metadata": {},
   "source": [
    "# 제어문"
   ]
  },
  {
   "cell_type": "code",
   "execution_count": null,
   "metadata": {},
   "outputs": [
    {
     "name": "stdout",
     "output_type": "stream",
     "text": [
      "이름을 입력하세요\n",
      "안녕하세요, 님.\n"
     ]
    }
   ],
   "source": [
    "# input()\n",
    "print(\"이름을 입력하세요\")\n",
    "name = input()\n",
    "print(\"안녕하세요, \" + name + \"님.\")"
   ]
  },
  {
   "cell_type": "code",
   "execution_count": null,
   "metadata": {},
   "outputs": [
    {
     "name": "stdout",
     "output_type": "stream",
     "text": [
      " + \n"
     ]
    },
    {
     "ename": "ValueError",
     "evalue": "invalid literal for int() with base 10: ''",
     "output_type": "error",
     "traceback": [
      "\u001b[1;31m---------------------------------------------------------------------------\u001b[0m",
      "\u001b[1;31mValueError\u001b[0m                                Traceback (most recent call last)",
      "Cell \u001b[1;32mIn[8], line 6\u001b[0m\n\u001b[0;32m      3\u001b[0m num2 \u001b[38;5;241m=\u001b[39m \u001b[38;5;28minput\u001b[39m(\u001b[38;5;124m\"\u001b[39m\u001b[38;5;124m두번째 숫자항 입력\u001b[39m\u001b[38;5;124m\"\u001b[39m)\n\u001b[0;32m      5\u001b[0m \u001b[38;5;28mprint\u001b[39m(num1, \u001b[38;5;124m\"\u001b[39m\u001b[38;5;124m+\u001b[39m\u001b[38;5;124m\"\u001b[39m, num2)\n\u001b[1;32m----> 6\u001b[0m \u001b[38;5;28mprint\u001b[39m(\u001b[38;5;28mint\u001b[39m(num1) \u001b[38;5;241m+\u001b[39m \u001b[38;5;28mint\u001b[39m(num2))\n",
      "\u001b[1;31mValueError\u001b[0m: invalid literal for int() with base 10: ''"
     ]
    }
   ],
   "source": [
    "# input()(2)\n",
    "num1 = input(\"첫번째 숫자항 입력\") # input함수 안에 안내문 출력 가능\n",
    "num2 = input(\"두번째 숫자항 입력\")\n",
    "\n",
    "print(num1, \"+\", num2)\n",
    "print(int(num1) + int(num2))"
   ]
  },
  {
   "cell_type": "code",
   "execution_count": 9,
   "metadata": {},
   "outputs": [
    {
     "name": "stdout",
     "output_type": "stream",
     "text": [
      "abcd\n",
      "20\n"
     ]
    }
   ],
   "source": [
    "# print()\n",
    "name = 'abcd'\n",
    "age = 20\n",
    "print(name)\n",
    "print(age)"
   ]
  },
  {
   "cell_type": "code",
   "execution_count": 11,
   "metadata": {},
   "outputs": [
    {
     "name": "stdout",
     "output_type": "stream",
     "text": [
      "85 80 80 245\n",
      "81.66666666666667\n",
      "85 80 80 245 81.67\n"
     ]
    }
   ],
   "source": [
    "# print()(2)\n",
    "kor = 85\n",
    "eng = 80\n",
    "math = 80\n",
    "print(kor, eng, math, end = \" \") # end = \"끝에 올 문자열\"\n",
    "total = kor + eng + math\n",
    "avg = total / 3\n",
    "print(total)\n",
    "print(avg)\n",
    "\n",
    "# 근데 사실 전부 포맷 문자열로 하면 안되나...\n",
    "print(f\"{kor} {eng} {math} {total} {avg:.2f}\")\n"
   ]
  },
  {
   "cell_type": "markdown",
   "metadata": {},
   "source": [
    "실습문제\n",
    "화씨온도 변환기 프로그램 작성\n",
    "(화씨온도 = (섭씨온도 * 1.8) + 32)"
   ]
  },
  {
   "cell_type": "code",
   "execution_count": 17,
   "metadata": {},
   "outputs": [
    {
     "name": "stdout",
     "output_type": "stream",
     "text": [
      "본 프로그램은 섭씨온도를 화씨온도로 변환하는 프로그램입니다.\n",
      "변환하고 싶은 섭씨온도를 입력하세요.\n"
     ]
    },
    {
     "ename": "ValueError",
     "evalue": "could not convert string to float: ''",
     "output_type": "error",
     "traceback": [
      "\u001b[1;31m---------------------------------------------------------------------------\u001b[0m",
      "\u001b[1;31mValueError\u001b[0m                                Traceback (most recent call last)",
      "Cell \u001b[1;32mIn[17], line 3\u001b[0m\n\u001b[0;32m      1\u001b[0m \u001b[38;5;28mprint\u001b[39m(\u001b[38;5;124m\"\u001b[39m\u001b[38;5;124m본 프로그램은 섭씨온도를 화씨온도로 변환하는 프로그램입니다.\u001b[39m\u001b[38;5;124m\"\u001b[39m)\n\u001b[0;32m      2\u001b[0m \u001b[38;5;28mprint\u001b[39m(\u001b[38;5;124m\"\u001b[39m\u001b[38;5;124m변환하고 싶은 섭씨온도를 입력하세요.\u001b[39m\u001b[38;5;124m\"\u001b[39m)\n\u001b[1;32m----> 3\u001b[0m celsius \u001b[38;5;241m=\u001b[39m \u001b[38;5;28mfloat\u001b[39m(\u001b[38;5;28minput\u001b[39m(\u001b[38;5;124m\"\u001b[39m\u001b[38;5;124m섭씨온도 입력\u001b[39m\u001b[38;5;124m\"\u001b[39m))\n\u001b[0;32m      4\u001b[0m fahrenheit \u001b[38;5;241m=\u001b[39m (celsius \u001b[38;5;241m*\u001b[39m \u001b[38;5;241m1.8\u001b[39m) \u001b[38;5;241m+\u001b[39m \u001b[38;5;241m32\u001b[39m\n\u001b[0;32m      5\u001b[0m \u001b[38;5;28mprint\u001b[39m(\u001b[38;5;124mf\u001b[39m\u001b[38;5;124m\"\u001b[39m\u001b[38;5;124m섭씨온도: \u001b[39m\u001b[38;5;132;01m{\u001b[39;00mcelsius\u001b[38;5;132;01m}\u001b[39;00m\u001b[38;5;124m\"\u001b[39m)\n",
      "\u001b[1;31mValueError\u001b[0m: could not convert string to float: ''"
     ]
    }
   ],
   "source": [
    "print(\"본 프로그램은 섭씨온도를 화씨온도로 변환하는 프로그램입니다.\")\n",
    "print(\"변환하고 싶은 섭씨온도를 입력하세요.\")\n",
    "celsius = float(input(\"섭씨온도 입력\"))\n",
    "fahrenheit = (celsius * 1.8) + 32\n",
    "print(f\"섭씨온도: {celsius}\")\n",
    "print(f\"화씨온도: {fahrenheit:.2f}\")"
   ]
  },
  {
   "cell_type": "code",
   "execution_count": 26,
   "metadata": {},
   "outputs": [
    {
     "ename": "ValueError",
     "evalue": "invalid literal for int() with base 10: ''",
     "output_type": "error",
     "traceback": [
      "\u001b[1;31m---------------------------------------------------------------------------\u001b[0m",
      "\u001b[1;31mValueError\u001b[0m                                Traceback (most recent call last)",
      "Cell \u001b[1;32mIn[26], line 13\u001b[0m\n\u001b[0;32m      1\u001b[0m \u001b[38;5;66;03m# if문\u001b[39;00m\n\u001b[0;32m      2\u001b[0m \u001b[38;5;66;03m# 기본 문법:\u001b[39;00m\n\u001b[0;32m      3\u001b[0m \u001b[38;5;66;03m# if 조건1:\u001b[39;00m\n\u001b[1;32m   (...)\u001b[0m\n\u001b[0;32m     10\u001b[0m \u001b[38;5;66;03m#     수행문3\u001b[39;00m\n\u001b[0;32m     11\u001b[0m \u001b[38;5;66;03m# 문장\u001b[39;00m\n\u001b[1;32m---> 13\u001b[0m money \u001b[38;5;241m=\u001b[39m \u001b[38;5;28mint\u001b[39m(\u001b[38;5;28minput\u001b[39m())\n\u001b[0;32m     14\u001b[0m \u001b[38;5;28;01mif\u001b[39;00m money \u001b[38;5;241m>\u001b[39m \u001b[38;5;241m5000\u001b[39m:\n\u001b[0;32m     15\u001b[0m     \u001b[38;5;28mprint\u001b[39m(\u001b[38;5;124m\"\u001b[39m\u001b[38;5;124m택시타기\u001b[39m\u001b[38;5;124m\"\u001b[39m)\n",
      "\u001b[1;31mValueError\u001b[0m: invalid literal for int() with base 10: ''"
     ]
    }
   ],
   "source": [
    "# if문\n",
    "# 기본 문법:\n",
    "# if 조건1:\n",
    "#     수행문1-1(들여쓰기 유지 필수)\n",
    "#     수행문1-2\n",
    "# elif 조건2:\n",
    "#     수행문2-1\n",
    "#     수행문2-2\n",
    "# else:\n",
    "#     수행문3\n",
    "# 문장\n",
    "\n",
    "money = int(input())\n",
    "if money > 5000:\n",
    "    print(\"택시타기\")\n",
    "    money -= 5000\n",
    "else:\n",
    "    print(\"걸어라 애송이\")\n",
    "print(\"잔고 =\", money)\n",
    "print(\"End\")"
   ]
  },
  {
   "cell_type": "code",
   "execution_count": 32,
   "metadata": {},
   "outputs": [
    {
     "ename": "ValueError",
     "evalue": "invalid literal for int() with base 10: ''",
     "output_type": "error",
     "traceback": [
      "\u001b[1;31m---------------------------------------------------------------------------\u001b[0m",
      "\u001b[1;31mValueError\u001b[0m                                Traceback (most recent call last)",
      "Cell \u001b[1;32mIn[32], line 1\u001b[0m\n\u001b[1;32m----> 1\u001b[0m score \u001b[38;5;241m=\u001b[39m \u001b[38;5;28mint\u001b[39m(\u001b[38;5;28minput\u001b[39m(\u001b[38;5;124m\"\u001b[39m\u001b[38;5;124m점수 입력\u001b[39m\u001b[38;5;124m\"\u001b[39m))\n\u001b[0;32m      3\u001b[0m \u001b[38;5;28;01mif\u001b[39;00m score \u001b[38;5;241m>\u001b[39m\u001b[38;5;241m=\u001b[39m \u001b[38;5;241m90\u001b[39m:\n\u001b[0;32m      4\u001b[0m     \u001b[38;5;28mprint\u001b[39m(\u001b[38;5;124m'\u001b[39m\u001b[38;5;124mA학점\u001b[39m\u001b[38;5;124m'\u001b[39m)\n",
      "\u001b[1;31mValueError\u001b[0m: invalid literal for int() with base 10: ''"
     ]
    }
   ],
   "source": [
    "score = int(input(\"점수 입력\"))\n",
    "\n",
    "if score >= 90:\n",
    "    print('A학점')\n",
    "elif score >= 80:\n",
    "    print('B학점')\n",
    "elif score >= 70:\n",
    "    print('C학점')\n",
    "elif score >= 60:\n",
    "    print('D학점')\n",
    "else:\n",
    "    print('F학점')"
   ]
  },
  {
   "cell_type": "markdown",
   "metadata": {},
   "source": [
    "연습문제\n",
    "money가 10000 이상이면 택시를 타고 가라\n",
    "money가 2000~9999이면 버스를 타고 가라\n",
    "money가 2000 미만이면 걸어서 가라"
   ]
  },
  {
   "cell_type": "code",
   "execution_count": 37,
   "metadata": {},
   "outputs": [
    {
     "ename": "ValueError",
     "evalue": "invalid literal for int() with base 10: ''",
     "output_type": "error",
     "traceback": [
      "\u001b[1;31m---------------------------------------------------------------------------\u001b[0m",
      "\u001b[1;31mValueError\u001b[0m                                Traceback (most recent call last)",
      "Cell \u001b[1;32mIn[37], line 1\u001b[0m\n\u001b[1;32m----> 1\u001b[0m money \u001b[38;5;241m=\u001b[39m \u001b[38;5;28mint\u001b[39m(\u001b[38;5;28minput\u001b[39m())\n\u001b[0;32m      2\u001b[0m \u001b[38;5;28;01mif\u001b[39;00m money \u001b[38;5;241m>\u001b[39m\u001b[38;5;241m=\u001b[39m \u001b[38;5;241m10000\u001b[39m:\n\u001b[0;32m      3\u001b[0m     \u001b[38;5;28mprint\u001b[39m(\u001b[38;5;124m\"\u001b[39m\u001b[38;5;124m택시를 타고 가라\u001b[39m\u001b[38;5;124m\"\u001b[39m)\n",
      "\u001b[1;31mValueError\u001b[0m: invalid literal for int() with base 10: ''"
     ]
    }
   ],
   "source": [
    "money = int(input())\n",
    "if money >= 10000:\n",
    "    print(\"택시를 타고 가라\")\n",
    "elif money >= 2000:\n",
    "    print(\"버스를 타거ㅕㅗㅜ가ㅢ라\")\n",
    "else:\n",
    "    print(\"죽던가\")"
   ]
  },
  {
   "cell_type": "code",
   "execution_count": null,
   "metadata": {},
   "outputs": [],
   "source": [
    "score1 = int(input(\"점수1 입력\"))\n",
    "score2 = int(input(\"점수2 입력\"))\n",
    "\n",
    "if score1 >= 60 and score2 >= 60:\n",
    "    print(\"gkqrur\")\n",
    "else:\n",
    "    print(\"qnfgkqrur\")\n",
    "    "
   ]
  },
  {
   "cell_type": "markdown",
   "metadata": {},
   "source": [
    "<b>연습문제</b>\n",
    "<p>\n",
    "점수 2개를 입력받아서 평균이 70점 이상,<br>\n",
    "각 과목은 60점 이상이면 합격이 된다.<br>\n",
    "합격자들에 한해서 등급이 주어짐<br>\n",
    "평균이 90점 이상이면 1등급<br>\n",
    "평균이 80점 이상이면 2등급<br>\n",
    "평균이 70점 이상이면 3등급<br>\n",
    "</p>"
   ]
  },
  {
   "cell_type": "code",
   "execution_count": 40,
   "metadata": {},
   "outputs": [
    {
     "name": "stdout",
     "output_type": "stream",
     "text": [
      "평균 : 79.5\n",
      "불합격\n"
     ]
    }
   ],
   "source": [
    "score1 = int(input(\"점수1 입력\"))\n",
    "score2 = int(input(\"점수2 입력\"))\n",
    "avg = (score1 + score2) / 2\n",
    "\n",
    "print(\"평균 :\", avg)\n",
    "if avg >= 70 and score1 >= 60 and score2 >= 60:\n",
    "    print(\"합격\")\n",
    "    if avg >= 90:\n",
    "        print(\"1등급\")\n",
    "    elif avg >= 80:\n",
    "        print(\"2등급\")\n",
    "    elif avg >= 70:\n",
    "        print(\"3등급\")\n",
    "else:\n",
    "    print(\"불합격\")"
   ]
  },
  {
   "cell_type": "code",
   "execution_count": 44,
   "metadata": {},
   "outputs": [
    {
     "name": "stdout",
     "output_type": "stream",
     "text": [
      "success\n",
      "success\n"
     ]
    }
   ],
   "source": [
    "# 표현식\n",
    "score = 60\n",
    "if score >= 60:\n",
    "    message = \"success\"\n",
    "else:\n",
    "    message = \"failure\"\n",
    "print(message)\n",
    "\n",
    "# 파이썬에서 작성할 수 있는 위랑 같은 표현식\n",
    "message = \"success\" if score >= 60 else \"failure\"\n",
    "print(message)"
   ]
  },
  {
   "cell_type": "code",
   "execution_count": 84,
   "metadata": {},
   "outputs": [
    {
     "name": "stdout",
     "output_type": "stream",
     "text": [
      "당신이 태어난 연도를 입력하세요.\n",
      "16세\n",
      "중학생일 수도 있는 나이임\n"
     ]
    }
   ],
   "source": [
    "print('당신이 태어난 연도를 입력하세요.')\n",
    "age = (2025 - int(input('생년도 입력')) + 1)\n",
    "\n",
    "print(str(age) + \"세\")\n",
    "if age > 26 and age < 8:\n",
    "    print('정규교육 범위 바깥의 나이임')\n",
    "elif age >= 20:\n",
    "    print('대학생일 수도 있는 나이임')\n",
    "elif age >= 17:\n",
    "    print('고등학생일 수도 있는 나이임')\n",
    "elif age >= 14:\n",
    "    print('중학생일 수도 있는 나이임')\n",
    "else:\n",
    "    print('초등학생일 수도 있는 나이임')\n",
    "    "
   ]
  },
  {
   "cell_type": "code",
   "execution_count": 90,
   "metadata": {},
   "outputs": [
    {
     "name": "stdout",
     "output_type": "stream",
     "text": [
      "1 1\n",
      "2 3\n",
      "3 6\n",
      "4 10\n",
      "5 15\n",
      "6 21\n",
      "7 28\n",
      "8 36\n",
      "9 45\n",
      "10 55\n"
     ]
    }
   ],
   "source": [
    "# while문\n",
    "i = 1\n",
    "sum = 0\n",
    "while i <= 10:\n",
    "    sum += i\n",
    "    print(i, sum)\n",
    "    i += 1"
   ]
  },
  {
   "cell_type": "code",
   "execution_count": 92,
   "metadata": {},
   "outputs": [
    {
     "name": "stdout",
     "output_type": "stream",
     "text": [
      "나무를 1번 찍었습니다.\n",
      "나무를 2번 찍었습니다.\n",
      "나무를 3번 찍었습니다.\n",
      "나무를 4번 찍었습니다.\n",
      "나무를 5번 찍었습니다.\n",
      "나무를 6번 찍었습니다.\n",
      "나무를 7번 찍었습니다.\n",
      "나무를 8번 찍었습니다.\n",
      "나무를 9번 찍었습니다.\n",
      "나무를 10번 찍었습니다.\n",
      "정말 나무를 10번 찍으셨군요...\n",
      "하지만 찍히는 나무의 심정은 생각해보신 적이 있나요?\n",
      "나무를 찍겠다는 당신의 감정만을 우선시하지는 않았나요?\n",
      "다시 한 번 생각해봅시다...\n"
     ]
    }
   ],
   "source": [
    "treeHit = 0\n",
    "while treeHit < 10:\n",
    "    treeHit += 1\n",
    "    print(f\"나무를 {treeHit}번 찍었습니다.\")\n",
    "    if treeHit == 10:\n",
    "        print(f'정말 나무를 {treeHit}번 찍으셨군요...')\n",
    "        print('하지만 찍히는 나무의 심정은 생각해보신 적이 있나요?')\n",
    "        print('나무를 찍겠다는 당신의 감정만을 우선시하지는 않았나요?')\n",
    "        print('다시 한 번 생각해봅시다...')"
   ]
  },
  {
   "cell_type": "code",
   "execution_count": 95,
   "metadata": {},
   "outputs": [
    {
     "ename": "ValueError",
     "evalue": "invalid literal for int() with base 10: ''",
     "output_type": "error",
     "traceback": [
      "\u001b[1;31m---------------------------------------------------------------------------\u001b[0m",
      "\u001b[1;31mValueError\u001b[0m                                Traceback (most recent call last)",
      "Cell \u001b[1;32mIn[95], line 3\u001b[0m\n\u001b[0;32m      1\u001b[0m li \u001b[38;5;241m=\u001b[39m []\n\u001b[0;32m      2\u001b[0m \u001b[38;5;28;01mwhile\u001b[39;00m \u001b[38;5;28;01mTrue\u001b[39;00m:\n\u001b[1;32m----> 3\u001b[0m     num \u001b[38;5;241m=\u001b[39m \u001b[38;5;28mint\u001b[39m(\u001b[38;5;28minput\u001b[39m(\u001b[38;5;124m'\u001b[39m\u001b[38;5;124m1. add / 2. del / 3. list / 4. quit\u001b[39m\u001b[38;5;124m'\u001b[39m))\n\u001b[0;32m      4\u001b[0m     \u001b[38;5;28;01mif\u001b[39;00m num \u001b[38;5;241m==\u001b[39m \u001b[38;5;241m1\u001b[39m:\n\u001b[0;32m      5\u001b[0m         data \u001b[38;5;241m=\u001b[39m \u001b[38;5;28minput\u001b[39m(\u001b[38;5;124m'\u001b[39m\u001b[38;5;124m데이터 입력\u001b[39m\u001b[38;5;124m'\u001b[39m)\n",
      "\u001b[1;31mValueError\u001b[0m: invalid literal for int() with base 10: ''"
     ]
    }
   ],
   "source": [
    "li = []\n",
    "while True:\n",
    "    num = int(input('1. add / 2. del / 3. list / 4. quit'))\n",
    "    if num == 1:\n",
    "        data = input('데이터 입력')\n",
    "        li.append(data)\n",
    "        print('입력 완료')\n",
    "    elif num == 2:\n",
    "        idx = int(input('삭제할 인덱스 입력'))\n",
    "        del li[idx]\n",
    "        print('삭제 완료')\n",
    "    elif num == 3:\n",
    "        print(li)\n",
    "    elif num == 4:\n",
    "        break\n",
    "    else:\n",
    "        print('입력 오류')\n",
    "print('End...')"
   ]
  },
  {
   "cell_type": "code",
   "execution_count": 98,
   "metadata": {},
   "outputs": [
    {
     "name": "stdout",
     "output_type": "stream",
     "text": [
      "1\n",
      "3\n",
      "5\n",
      "7\n",
      "9\n"
     ]
    }
   ],
   "source": [
    "a = 0\n",
    "while a < 10:\n",
    "    a += 1\n",
    "    if a % 2 == 0:\n",
    "        continue\n",
    "    print(a)"
   ]
  },
  {
   "cell_type": "code",
   "execution_count": 107,
   "metadata": {},
   "outputs": [
    {
     "name": "stdout",
     "output_type": "stream",
     "text": [
      "A\n",
      "B\n",
      "C\n",
      "D\n",
      "E\n",
      "F\n",
      "G\n",
      "H\n",
      "I\n",
      "J\n",
      "K\n",
      "L\n",
      "M\n",
      "N\n",
      "O\n",
      "P\n",
      "Q\n",
      "R\n",
      "S\n",
      "T\n",
      "U\n",
      "V\n",
      "W\n",
      "X\n",
      "Y\n",
      "Z\n"
     ]
    }
   ],
   "source": [
    "i = 0\n",
    "while True:\n",
    "    print(chr(ord('A') + i))\n",
    "    i += 1\n",
    "    if i == 26:\n",
    "        break"
   ]
  }
 ],
 "metadata": {
  "kernelspec": {
   "display_name": "base",
   "language": "python",
   "name": "python3"
  },
  "language_info": {
   "codemirror_mode": {
    "name": "ipython",
    "version": 3
   },
   "file_extension": ".py",
   "mimetype": "text/x-python",
   "name": "python",
   "nbconvert_exporter": "python",
   "pygments_lexer": "ipython3",
   "version": "3.12.7"
  }
 },
 "nbformat": 4,
 "nbformat_minor": 2
}
